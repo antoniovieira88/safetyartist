{
 "cells": [
  {
   "cell_type": "code",
   "execution_count": 14,
   "metadata": {},
   "outputs": [],
   "source": [
    "###########################################################################################################################\n",
    "#\n",
    "# Antonio Vieira da Silva Neto - NUSP  5690149 - Doutorando em Ciências\n",
    "# Henrique Lefundes da Silva   - NUSP 11808280 - Pesquisador de Iniciação Científica e Graduando em Engenharia Elétrica\n",
    "#\n",
    "# Escola Politécnica da Universidade de São Paulo\n",
    "# Programa de Pós-Graduação em Engenharia Elétrica\n",
    "# Departamento de Engenharia de Computação e Sistemas Digitais\n",
    "# Área de Concentração: Confiabilidade e Segurança\n",
    "#\n",
    "# Tese de Doutorado: Safety ArtISt: Um Método para a Garantia de Segurança Crítica de Sistemas com Inteligência Artificial\n",
    "#\n",
    "# Estudo de Caso 4 - Sistema de Controle de Frenagem de Veículos\n",
    "#\n",
    "# Arquivo para geração do modelo base de IA\n",
    "#\n",
    "###########################################################################################################################\n",
    "\n",
    "###########################################################################################################################\n",
    "#\n",
    "# Tabela de Controle de Versões do Código\n",
    "#\n",
    "#--------|-------------------|------------------------------|--------------------------------------------------------------\n",
    "# Versão | Data (dd/mm/aaaa) | Autor                        | Descrição da Versão\n",
    "#--------|-------------------|------------------------------|--------------------------------------------------------------\n",
    "#   01   |    28/07/2022     | Henrique Lefundes da Silva   | Versão inicial.\n",
    "#--------|-------------------|------------------------------|--------------------------------------------------------------\n",
    "###########################################################################################################################\n",
    "\n",
    "# Importação de Bibliotecas\n",
    "import numpy as np\n",
    "import pandas as pd\n",
    "import matplotlib.pyplot as plt\n",
    "from sklearn.tree import DecisionTreeClassifier\n",
    "from sklearn.tree import plot_tree\n",
    "from sklearn.model_selection import train_test_split\n",
    "from sklearn.model_selection import cross_val_score\n",
    "from sklearn.model_selection import RandomizedSearchCV\n",
    "from sklearn.model_selection import GridSearchCV\n",
    "from sklearn.model_selection import KFold\n",
    "from sklearn.metrics import ConfusionMatrixDisplay\n",
    "from sklearn.metrics import make_scorer, confusion_matrix, accuracy_score, precision_score, recall_score, f1_score, classification_report "
   ]
  },
  {
   "cell_type": "code",
   "execution_count": 15,
   "metadata": {},
   "outputs": [],
   "source": [
    "# Pré-processamento dos dados (pre_processing)\n",
    "\n",
    "def pre_processing(address):\n",
    "    dataColumns = [\"Distância Ruidosa\", \"Velocidade Ruidosa\", \"Capacidade de Frenagem Ruidosa\",\n",
    "                    \"Decisão\"]\n",
    "    \n",
    "    dataset = pd.read_csv(address, header = None, names = dataColumns)\n",
    "\n",
    "    return dataset"
   ]
  },
  {
   "cell_type": "code",
   "execution_count": 16,
   "metadata": {},
   "outputs": [
    {
     "name": "stdout",
     "output_type": "stream",
     "text": [
      "       Distância Ruidosa  Velocidade Ruidosa  Capacidade de Frenagem Ruidosa  \\\n",
      "0               0.000000            0.000000                          1.3950   \n",
      "1               0.000000            0.000000                          1.1625   \n",
      "2               1.579846            0.000000                          0.9300   \n",
      "3               0.282185            0.000000                          0.7800   \n",
      "4               0.394876            0.000000                          0.6500   \n",
      "...                  ...                 ...                             ...   \n",
      "57280        2000.433820           26.977928                          1.3950   \n",
      "57281        1999.988138           28.886308                          1.1625   \n",
      "57282        1998.246886           28.409583                          0.9300   \n",
      "57283        2002.044078           27.358991                          0.7800   \n",
      "57284        1998.055064           27.991858                          0.6500   \n",
      "\n",
      "       Decisão  \n",
      "0          1.0  \n",
      "1          1.0  \n",
      "2          1.0  \n",
      "3          1.0  \n",
      "4          1.0  \n",
      "...        ...  \n",
      "57280      0.0  \n",
      "57281      0.0  \n",
      "57282      0.0  \n",
      "57283      0.0  \n",
      "57284      0.0  \n",
      "\n",
      "[57285 rows x 4 columns]\n"
     ]
    }
   ],
   "source": [
    "# Realiza a leitura do arquivo CSV\n",
    "# O arquivo se encontra numa pasta dentro do diretório deste programa:\n",
    "# ./Árvore de Decisão/Dataset/Dataset.csv\n",
    "pp_dataset = pre_processing(\"./Dataset/Dataset.csv\")\n",
    "print(pp_dataset)"
   ]
  },
  {
   "cell_type": "code",
   "execution_count": 17,
   "metadata": {},
   "outputs": [
    {
     "name": "stdout",
     "output_type": "stream",
     "text": [
      "       Distância Ruidosa  Velocidade Ruidosa  Capacidade de Frenagem Ruidosa\n",
      "0               0.000000            0.000000                          1.3950\n",
      "1               0.000000            0.000000                          1.1625\n",
      "2               1.579846            0.000000                          0.9300\n",
      "3               0.282185            0.000000                          0.7800\n",
      "4               0.394876            0.000000                          0.6500\n",
      "...                  ...                 ...                             ...\n",
      "57280        2000.433820           26.977928                          1.3950\n",
      "57281        1999.988138           28.886308                          1.1625\n",
      "57282        1998.246886           28.409583                          0.9300\n",
      "57283        2002.044078           27.358991                          0.7800\n",
      "57284        1998.055064           27.991858                          0.6500\n",
      "\n",
      "[57285 rows x 3 columns]\n",
      "       Decisão\n",
      "0          1.0\n",
      "1          1.0\n",
      "2          1.0\n",
      "3          1.0\n",
      "4          1.0\n",
      "...        ...\n",
      "57280      0.0\n",
      "57281      0.0\n",
      "57282      0.0\n",
      "57283      0.0\n",
      "57284      0.0\n",
      "\n",
      "[57285 rows x 1 columns]\n"
     ]
    }
   ],
   "source": [
    "#Define as entradas e as saídas do dataset\n",
    "\n",
    "pp_data_inputs = pp_dataset.drop(columns = ['Decisão'])\n",
    "print(pp_data_inputs)\n",
    "\n",
    "pp_data_outputs = pp_dataset[['Decisão']]\n",
    "print(pp_data_outputs)\n"
   ]
  },
  {
   "cell_type": "code",
   "execution_count": 18,
   "metadata": {},
   "outputs": [
    {
     "name": "stdout",
     "output_type": "stream",
     "text": [
      "{'criterion': ['entropy', 'gini'], 'splitter': ['best', 'random'], 'max_depth': [1, 6, 11, 16, 21, 26, 31, 36, 41, 46, 51, 56, 61, 66, 71, 76, 81, 86, 91, 96, 101, 106, 111, 116, 121, 126, 131, 136, 141, 146, 151, 156, 161, 166, 171, 176, 181, 186, 191, 196, 201, None], 'min_samples_split': [2, 5, 8, 11, 14, 17], 'min_samples_leaf': [1, 4, 7, 10, 13, 16], 'max_features': ['log2', 'sqrt', None]}\n"
     ]
    }
   ],
   "source": [
    "random_state = 1\n",
    "\n",
    "# Definição dos hiperparâmetros\n",
    "\n",
    "\n",
    "criterion = ['entropy', 'gini']\n",
    "\n",
    "splitter = ['best', 'random']\n",
    "\n",
    "max_depth = [int(x) for x in np.arange(1, 205, step = 5)]\n",
    "max_depth.append(None)\n",
    "\n",
    "min_samples_split = [int(x) for x in np.arange(2, 18, step = 3)]\n",
    "\n",
    "min_samples_leaf = [int(x) for x in np.arange(1, 18, step = 3)]\n",
    "\n",
    "max_features = ['log2', 'sqrt', None] #Pode ser inteiro ou float também, devemos variar com int e float?\n",
    "\n",
    "hyperparameters_settings = {'criterion'         : criterion,\n",
    "                            'splitter'          : splitter,\n",
    "                            'max_depth'         : max_depth,\n",
    "                            'min_samples_split' : min_samples_split,\n",
    "                            'min_samples_leaf'  : min_samples_leaf,\n",
    "                            'max_features'      : max_features\n",
    "                           }\n",
    "\n",
    "print(hyperparameters_settings)\n",
    "\n",
    "# Metrica de performance\n",
    "scoring = 'recall'\n",
    "\n",
    "# Número de partições\n",
    "k_fold = 10 \n"
   ]
  },
  {
   "cell_type": "code",
   "execution_count": 19,
   "metadata": {},
   "outputs": [
    {
     "name": "stdout",
     "output_type": "stream",
     "text": [
      "Fitting 10 folds for each of 10 candidates, totalling 100 fits\n"
     ]
    },
    {
     "data": {
      "text/plain": [
       "RandomizedSearchCV(cv=KFold(n_splits=10, random_state=None, shuffle=True),\n",
       "                   estimator=DecisionTreeClassifier(), n_jobs=-1,\n",
       "                   param_distributions={'criterion': ['entropy', 'gini'],\n",
       "                                        'max_depth': [1, 6, 11, 16, 21, 26, 31,\n",
       "                                                      36, 41, 46, 51, 56, 61,\n",
       "                                                      66, 71, 76, 81, 86, 91,\n",
       "                                                      96, 101, 106, 111, 116,\n",
       "                                                      121, 126, 131, 136, 141,\n",
       "                                                      146, ...],\n",
       "                                        'max_features': ['log2', 'sqrt', None],\n",
       "                                        'min_samples_leaf': [1, 4, 7, 10, 13,\n",
       "                                                             16],\n",
       "                                        'min_samples_split': [2, 5, 8, 11, 14,\n",
       "                                                              17],\n",
       "                                        'splitter': ['best', 'random']},\n",
       "                   scoring='recall', verbose=4)"
      ]
     },
     "execution_count": 19,
     "metadata": {},
     "output_type": "execute_result"
    }
   ],
   "source": [
    "# Criação da árvore de decisão\n",
    "starting_decision_tree = DecisionTreeClassifier()\n",
    "\n",
    "# Optimização dos hiperparâmetros\n",
    "dtTries = RandomizedSearchCV(estimator = starting_decision_tree, param_distributions = hyperparameters_settings, scoring = scoring,\n",
    "                            cv = KFold(n_splits = k_fold, shuffle = True), verbose = 4, n_jobs = -1)\n",
    "\n",
    "# Teste com os hiperparâmetros encontrados\n",
    "dtTries.fit(pp_data_inputs, pp_data_outputs)\n"
   ]
  },
  {
   "cell_type": "code",
   "execution_count": 20,
   "metadata": {},
   "outputs": [
    {
     "name": "stdout",
     "output_type": "stream",
     "text": [
      "{'splitter': 'best', 'min_samples_split': 5, 'min_samples_leaf': 7, 'max_features': None, 'max_depth': 41, 'criterion': 'entropy'}\n",
      "10 - Fold Best recall-score:  96.16398176607503\n"
     ]
    }
   ],
   "source": [
    "print(dtTries.best_params_)\n",
    "print(k_fold,'- Fold Best recall-score: ', dtTries.best_score_*100)"
   ]
  },
  {
   "cell_type": "code",
   "execution_count": 21,
   "metadata": {},
   "outputs": [
    {
     "name": "stdout",
     "output_type": "stream",
     "text": [
      "{'criterion': ['entropy'], 'splitter': ['best'], 'max_depth': [14, 15, 16, 17, 18], 'min_samples_split': [15, 16, 17, 18, 19], 'min_samples_leaf': [8, 9, 10, 11, 12], 'max_features': [None]}\n"
     ]
    }
   ],
   "source": [
    "# Segunda iteração\n",
    "\n",
    "criterion = ['entropy']\n",
    "\n",
    "splitter = ['best']\n",
    "\n",
    "max_depth = [int(x) for x in np.arange(14, 19, step = 1)]\n",
    "\n",
    "min_samples_split = [int(x) for x in np.arange(15, 20, step = 1)]\n",
    "\n",
    "min_samples_leaf = [int(x) for x in np.arange(8, 13, step = 1)]\n",
    "\n",
    "max_features = [None] #Pode ser inteiro ou float também, devemos variar com int e float?\n",
    "\n",
    "hyperparameters_settings = {'criterion'         : criterion,\n",
    "                            'splitter'          : splitter,\n",
    "                            'max_depth'         : max_depth,\n",
    "                            'min_samples_split' : min_samples_split,\n",
    "                            'min_samples_leaf'  : min_samples_leaf,\n",
    "                            'max_features'      : max_features\n",
    "                           }\n",
    "\n",
    "print(hyperparameters_settings)\n",
    "\n",
    "scoring = 'recall'\n",
    "\n",
    "k_fold = 10 "
   ]
  },
  {
   "cell_type": "code",
   "execution_count": 22,
   "metadata": {},
   "outputs": [
    {
     "name": "stdout",
     "output_type": "stream",
     "text": [
      "{'splitter': 'best', 'min_samples_split': 5, 'min_samples_leaf': 7, 'max_features': None, 'max_depth': 41, 'criterion': 'entropy'}\n",
      "10 -Fold Best recall-score:  96.16398176607503\n"
     ]
    }
   ],
   "source": [
    "print(dtTries.best_params_)\n",
    "print(k_fold, '-Fold Best recall-score: ', dtTries.best_score_*100)"
   ]
  },
  {
   "cell_type": "code",
   "execution_count": 23,
   "metadata": {},
   "outputs": [],
   "source": [
    "# Árvore de decisão final\n",
    "final_decision_tree = DecisionTreeClassifier(splitter = 'best', min_samples_split = 17, \n",
    "                                            min_samples_leaf = 10, max_features = None, \n",
    "                                            max_depth = 16, criterion = 'entropy')\n",
    "\n",
    "# Holdout test\n",
    "inputsTrain, inputsTest, outputsTrain, outputsTest = train_test_split(pp_data_inputs, \n",
    "                                                                      pp_data_outputs,\n",
    "                                                                      test_size = 0.2)\n",
    "\n",
    "final_decision_tree.fit(inputsTrain, outputsTrain)\n",
    "\n",
    "# Valores preditos pela árvore treinada\n",
    "predicted_apply_brakes = final_decision_tree.predict(inputsTest)\n",
    "\n",
    "# Métricas de performance\n",
    "finalAccuracy = accuracy_score(outputsTest, predicted_apply_brakes)\n",
    "finalPrecision = precision_score(outputsTest, predicted_apply_brakes)\n",
    "finalRecall = recall_score(outputsTest, predicted_apply_brakes)\n",
    "finalF1 = f1_score(outputsTest, predicted_apply_brakes)\n",
    "finalConfusionMatrix = confusion_matrix(outputsTest, predicted_apply_brakes)\n",
    "finalClassificationReport = classification_report(outputsTest, predicted_apply_brakes)\n",
    "\n",
    "# Plot da árvore de decisão treinada, comentado apenas para menor tempo de execução\n",
    "# plot_tree(final_decision_tree)\n",
    "# plt.show()\n",
    "\n"
   ]
  },
  {
   "cell_type": "code",
   "execution_count": 24,
   "metadata": {},
   "outputs": [
    {
     "name": "stdout",
     "output_type": "stream",
     "text": [
      "Accuracy: 99.15335602688313\n",
      "Precision: 96.06087735004476\n",
      "Recall: 95.29307282415631\n",
      "F1-Score: 95.67543468568881\n",
      "[[10287    44]\n",
      " [   53  1073]]\n"
     ]
    },
    {
     "data": {
      "image/png": "[encoded data removed]",
      "text/plain": [
       "<Figure size 432x288 with 2 Axes>"
      ]
     },
     "metadata": {
      "needs_background": "light"
     },
     "output_type": "display_data"
    }
   ],
   "source": [
    "# Imprime resultados finais\n",
    "print('Accuracy:', finalAccuracy*100)\n",
    "print('Precision:', finalPrecision*100)\n",
    "print('Recall:', finalRecall*100)\n",
    "print('F1-Score:', finalF1*100)\n",
    "print(finalConfusionMatrix)\n",
    "ConfusionMatrixDisplay(finalConfusionMatrix).plot()\n",
    "plt.show()\n",
    "\n"
   ]
  }
 ],
 "metadata": {
  "kernelspec": {
   "display_name": "Python 3 (ipykernel)",
   "language": "python",
   "name": "python3"
  },
  "language_info": {
   "codemirror_mode": {
    "name": "ipython",
    "version": 3
   },
   "file_extension": ".py",
   "mimetype": "text/x-python",
   "name": "python",
   "nbconvert_exporter": "python",
   "pygments_lexer": "ipython3",
   "version": "3.9.12"
  },
  "vscode": {
   "interpreter": {
    "hash": "71fcf4248884cc9b5a1bf85f444bedb320db54f7fe805d482155a26322dbadc2"
   }
  }
 },
 "nbformat": 4,
 "nbformat_minor": 2
}
