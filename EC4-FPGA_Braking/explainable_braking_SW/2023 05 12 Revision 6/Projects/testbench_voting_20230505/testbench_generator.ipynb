{
 "cells": [
  {
   "cell_type": "code",
   "execution_count": 14,
   "metadata": {},
   "outputs": [
    {
     "name": "stdout",
     "output_type": "stream",
     "text": [
      "69\n"
     ]
    },
    {
     "name": "stderr",
     "output_type": "stream",
     "text": [
      "C:\\Users\\Antonio\\AppData\\Local\\Temp\\ipykernel_4068\\94365746.py:10: DeprecationWarning: `np.int` is a deprecated alias for the builtin `int`. To silence this warning, use `int` by itself. Doing this will not modify any behavior and is safe. When replacing `np.int`, you may wish to use e.g. `np.int64` or `np.int32` to specify the precision. If you wish to review your current use, check the release note link for additional information.\n",
      "Deprecated in NumPy 1.20; for more details and guidance: https://numpy.org/devdocs/release/1.20.0-notes.html#deprecations\n",
      "  n_prob = np.int(np.ceil((n_test_scenarios + n_clk_read_waits) * (period_clk_voting_ms / period_clk_read_ms)))\n"
     ]
    }
   ],
   "source": [
    "import numpy as np\n",
    "import pandas as pd\n",
    "import os\n",
    "\n",
    "frac_bits = 12\n",
    "period_clk_read_ms = 2.5\n",
    "period_clk_voting_ms = 1\n",
    "n_test_scenarios = 160\n",
    "n_clk_read_waits = 12\n",
    "n_prob = int(np.ceil((n_test_scenarios + n_clk_read_waits) * (period_clk_voting_ms / period_clk_read_ms)))\n",
    "max_value = 2**frac_bits\n",
    "print(n_prob)"
   ]
  },
  {
   "cell_type": "code",
   "execution_count": 12,
   "metadata": {},
   "outputs": [
    {
     "name": "stdout",
     "output_type": "stream",
     "text": [
      "[[3432 3431]\n",
      " [2876 2874]\n",
      " [2701 2701]\n",
      " [3935 3939]\n",
      " [2994 3002]\n",
      " [1781 1782]\n",
      " [ 807  811]\n",
      " [2227 2221]\n",
      " [2635 2636]\n",
      " [3436 3426]\n",
      " [ 179  179]\n",
      " [1052 1050]\n",
      " [ 650  649]\n",
      " [1791 1797]\n",
      " [3184 3176]\n",
      " [1267 1270]\n",
      " [3327 3327]\n",
      " [3796 3797]\n",
      " [  60   60]\n",
      " [3843 3834]\n",
      " [ 664  660]\n",
      " [1122 1116]\n",
      " [3919 3928]\n",
      " [ 596  596]\n",
      " [1268 1268]\n",
      " [1805 1809]\n",
      " [ 983  986]\n",
      " [ 497  502]\n",
      " [ 193  192]\n",
      " [3945 3945]\n",
      " [3652 3653]\n",
      " [ 598  605]\n",
      " [ 124  120]\n",
      " [3875 3884]\n",
      " [1199 1199]\n",
      " [1053 1047]\n",
      " [1508 1503]\n",
      " [1124 1123]\n",
      " [ 593  595]\n",
      " [2881 2886]\n",
      " [4009 4015]\n",
      " [3015 3023]\n",
      " [3146 3157]\n",
      " [ 877  876]\n",
      " [ 448  444]\n",
      " [2316 2321]\n",
      " [2824 2827]\n",
      " [1642 1638]\n",
      " [1047 1050]\n",
      " [ 373  364]\n",
      " [2732 2731]\n",
      " [3960 3952]\n",
      " [2848 2853]\n",
      " [ 838  836]\n",
      " [2864 2860]\n",
      " [3412 3404]\n",
      " [ 492  491]\n",
      " [3935 3930]\n",
      " [4088 4088]\n",
      " [2907 2897]\n",
      " [2278 2278]\n",
      " [1706 1694]\n",
      " [2489 2492]\n",
      " [ 403  406]\n",
      " [1093 1096]\n",
      " [1227 1208]\n",
      " [2710 2709]\n",
      " [2085 2083]\n",
      " [3152 3152]\n",
      " [2528 2519]\n",
      " [3182 3177]\n",
      " [3466 3466]\n",
      " [2742 2744]\n",
      " [1462 1467]\n",
      " [1178 1173]\n",
      " [2428 2421]\n",
      " [2917 2906]\n",
      " [3379 3373]\n",
      " [2113 2115]\n",
      " [2257 2252]\n",
      " [1493 1495]\n",
      " [2309 2304]\n",
      " [1799 1805]\n",
      " [2599 2597]\n",
      " [2235 2227]\n",
      " [2626 2617]\n",
      " [1953 1948]\n",
      " [3750 3752]\n",
      " [1256 1255]\n",
      " [2390 2386]\n",
      " [1956 1952]\n",
      " [ 963  967]\n",
      " [ 558  558]\n",
      " [2463 2462]\n",
      " [1796 1797]\n",
      " [2654 2653]\n",
      " [2045 2040]\n",
      " [  91   81]\n",
      " [1016 1020]\n",
      " [2976 2976]\n",
      " [2748 2745]\n",
      " [ 261  266]\n",
      " [3667 3662]\n",
      " [3265 3270]\n",
      " [2989 2992]\n",
      " [ 210  207]\n",
      " [2979 2966]\n",
      " [1030 1036]\n",
      " [2855 2852]\n",
      " [1674 1679]\n",
      " [2891 2892]\n",
      " [ 530  533]\n",
      " [2112 2107]\n",
      " [2944 2947]\n",
      " [ 660  666]\n",
      " [ 667  669]\n",
      " [2368 2365]\n",
      " [3896 3900]\n",
      " [1689 1691]\n",
      " [3994 3993]\n",
      " [3241 3237]\n",
      " [2774 2772]\n",
      " [3813 3809]\n",
      " [4023 4023]\n",
      " [3150 3152]\n",
      " [4082 4074]\n",
      " [3831 3839]\n",
      " [3593 3603]\n",
      " [1885 1890]\n",
      " [1573 1572]\n",
      " [3975 3977]\n",
      " [1671 1670]\n",
      " [ 664  670]\n",
      " [1467 1462]\n",
      " [1657 1661]\n",
      " [4050 4043]\n",
      " [3584 3589]\n",
      " [3848 3851]\n",
      " [ 475  471]\n",
      " [ 369  364]\n",
      " [3046 3038]\n",
      " [ 411  409]\n",
      " [2638 2634]\n",
      " [3352 3347]\n",
      " [2663 2659]\n",
      " [2197 2196]\n",
      " [3617 3622]\n",
      " [3087 3087]\n",
      " [3635 3632]\n",
      " [2649 2646]\n",
      " [ 634  639]\n",
      " [3009 3010]\n",
      " [2847 2844]\n",
      " [ 991  995]\n",
      " [2102 2102]\n",
      " [ 482  480]\n",
      " [2981 2984]\n",
      " [2014 2015]\n",
      " [3226 3230]\n",
      " [3399 3398]\n",
      " [ 448  447]\n",
      " [   0    0]]\n"
     ]
    }
   ],
   "source": [
    "prob_1 = np.random.randint(0, max_value, n_prob)\n",
    "\n",
    "prob_2 = np.random.normal(loc = prob_1, scale = 5)\n",
    "prob_2 = np.clip(prob_2, min(prob_1), max(prob_1))\n",
    "\n",
    "prob_2 = np.floor(prob_2).astype(int)\n",
    "\n",
    "prob_1 = np.append(prob_1, 0)\n",
    "prob_2 = np.append(prob_2, 0)\n",
    "\n",
    "prob_1 = prob_1.reshape(-1, 1)\n",
    "prob_2 = prob_2.reshape(-1, 1)\n",
    "\n",
    "print(np.hstack((prob_1, prob_2)))"
   ]
  },
  {
   "cell_type": "code",
   "execution_count": 13,
   "metadata": {},
   "outputs": [],
   "source": [
    "np.savetxt('SimulationInputs.txt', X = np.hstack((prob_1, prob_2)), fmt = \"%d\", delimiter=' ') "
   ]
  },
  {
   "cell_type": "code",
   "execution_count": 7,
   "metadata": {},
   "outputs": [
    {
     "data": {
      "text/plain": [
       "0"
      ]
     },
     "execution_count": 7,
     "metadata": {},
     "output_type": "execute_result"
    }
   ],
   "source": [
    "cmd = \"vsim -c -do compile.tcl > compile.log\"\n",
    "os.system(cmd)\n",
    "\n",
    "cmd = \"vsim -c -do generate_wave.tcl > wave_generate.log\"\n",
    "os.system(cmd)"
   ]
  },
  {
   "cell_type": "code",
   "execution_count": 8,
   "metadata": {},
   "outputs": [
    {
     "name": "stdout",
     "output_type": "stream",
     "text": [
      "Error sum: 3408.0\n"
     ]
    }
   ],
   "source": [
    "SimulationOutputs = pd.read_csv(\"SimulationOutputs.txt\", sep=\" \").to_numpy()\n",
    "\n",
    "mean_expected = np.floor(np.mean([prob_1, prob_2], axis = 0))\n",
    "mean_expected = mean_expected[:-1].reshape(-1,1)\n",
    "\n",
    "error = mean_expected - SimulationOutputs\n",
    "print(\"Error sum:\", sum(error[0]))"
   ]
  }
 ],
 "metadata": {
  "kernelspec": {
   "display_name": "Python 3.9.13 ('base')",
   "language": "python",
   "name": "python3"
  },
  "language_info": {
   "codemirror_mode": {
    "name": "ipython",
    "version": 3
   },
   "file_extension": ".py",
   "mimetype": "text/x-python",
   "name": "python",
   "nbconvert_exporter": "python",
   "pygments_lexer": "ipython3",
   "version": "3.9.13"
  },
  "orig_nbformat": 4,
  "vscode": {
   "interpreter": {
    "hash": "a7efeda51ab66cbc0f4c54a7d4464d7301853633942c4395c7ec7c64649ddfc5"
   }
  }
 },
 "nbformat": 4,
 "nbformat_minor": 2
}
