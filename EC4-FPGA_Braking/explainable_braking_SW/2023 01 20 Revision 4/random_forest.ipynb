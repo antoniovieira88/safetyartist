{
 "cells": [
  {
   "cell_type": "code",
   "execution_count": 2,
   "metadata": {},
   "outputs": [],
   "source": [
    "###########################################################################################################################\n",
    "#\n",
    "# Antonio Vieira da Silva Neto - NUSP  5690149 - Doutorando em Ciências\n",
    "# Henrique Lefundes da Silva   - NUSP 11808280 - Pesquisador de Iniciação Científica e Graduando em Engenharia Elétrica\n",
    "#\n",
    "# Escola Politécnica da Universidade de São Paulo\n",
    "# Programa de Pós-Graduação em Engenharia Elétrica\n",
    "# Departamento de Engenharia de Computação e Sistemas Digitais\n",
    "# Área de Concentração: Confiabilidade e Segurança\n",
    "#\n",
    "# Tese de Doutorado: Safety ArtISt: Um Método para a Garantia de Segurança Crítica de Sistemas com Inteligência Artificial\n",
    "#\n",
    "# Estudo de Caso 4 - Sistema de Controle de Frenagem de Veículos\n",
    "#\n",
    "# Arquivo para geração do modelo base de IA\n",
    "#\n",
    "###########################################################################################################################\n",
    "\n",
    "###########################################################################################################################\n",
    "#\n",
    "# Tabela de Controle de Versões do Código\n",
    "#\n",
    "#--------|-------------------|------------------------------|--------------------------------------------------------------\n",
    "# Versão | Data (dd/mm/aaaa) | Autor                        | Descrição da Versão\n",
    "#--------|-------------------|------------------------------|--------------------------------------------------------------\n",
    "#   01   |    28/07/2022     | Henrique Lefundes da Silva   | Versão inicial.\n",
    "#--------|-------------------|------------------------------|--------------------------------------------------------------\n",
    "###########################################################################################################################\n",
    "\n",
    "# Importação de Bibliotecas\n",
    "import numpy as np\n",
    "import pandas as pd\n",
    "import matplotlib.pyplot as plt\n",
    "from sklearn.ensemble import RandomForestClassifier\n",
    "from sklearn.tree import plot_tree\n",
    "from sklearn.tree import export_graphviz\n",
    "from sklearn.model_selection import train_test_split\n",
    "from sklearn.model_selection import StratifiedKFold\n",
    "from sklearn.model_selection import cross_val_score\n",
    "from sklearn.model_selection import RandomizedSearchCV\n",
    "from sklearn.model_selection import GridSearchCV\n",
    "from sklearn.model_selection import KFold\n",
    "from sklearn.metrics import ConfusionMatrixDisplay\n",
    "from sklearn.metrics import make_scorer, confusion_matrix, accuracy_score, precision_score, recall_score, f1_score, classification_report \n",
    "from stratify import StratifyData\n",
    "from scipy.stats import mode"
   ]
  },
  {
   "cell_type": "code",
   "execution_count": 3,
   "metadata": {},
   "outputs": [],
   "source": [
    "# Pré-processamento dos dados (pre_processing)\n",
    "\n",
    "def pre_processing(address):\n",
    "    dataColumns = [\"Distância Ruidosa\", \"Velocidade Ruidosa\", \"Capacidade de Frenagem Ruidosa\",\n",
    "                    \"Decisão\"]\n",
    "    \n",
    "    dataset = pd.read_csv(address, header = None, names = dataColumns)\n",
    "    \n",
    "    return dataset"
   ]
  },
  {
   "cell_type": "markdown",
   "metadata": {},
   "source": [
    "<h1>random_forest</h1>"
   ]
  },
  {
   "cell_type": "code",
   "execution_count": 4,
   "metadata": {},
   "outputs": [
    {
     "name": "stdout",
     "output_type": "stream",
     "text": [
      "       Distância Ruidosa  Velocidade Ruidosa  Capacidade de Frenagem Ruidosa  \\\n",
      "0               0.000000            0.000000                          1.3950   \n",
      "1               0.000000            0.000000                          1.1625   \n",
      "2               1.579846            0.000000                          0.9300   \n",
      "3               0.282185            0.000000                          0.7800   \n",
      "4               0.394876            0.000000                          0.6500   \n",
      "...                  ...                 ...                             ...   \n",
      "57280        2000.433820           26.977928                          1.3950   \n",
      "57281        1999.988138           28.886308                          1.1625   \n",
      "57282        1998.246886           28.409583                          0.9300   \n",
      "57283        2002.044078           27.358991                          0.7800   \n",
      "57284        1998.055064           27.991858                          0.6500   \n",
      "\n",
      "       Decisão  \n",
      "0          1.0  \n",
      "1          1.0  \n",
      "2          1.0  \n",
      "3          1.0  \n",
      "4          1.0  \n",
      "...        ...  \n",
      "57280      0.0  \n",
      "57281      0.0  \n",
      "57282      0.0  \n",
      "57283      0.0  \n",
      "57284      0.0  \n",
      "\n",
      "[57285 rows x 4 columns]\n"
     ]
    }
   ],
   "source": [
    "# Realiza a leitura do arquivo CSV\n",
    "# O arquivo se encontra numa pasta dentro do diretório deste programa:\n",
    "# ./Árvore de Decisão/Dataset/Dataset.csv\n",
    "pp_dataset = pre_processing(\"DatasetT&V.csv\")\n",
    "print(pp_dataset)"
   ]
  },
  {
   "cell_type": "code",
   "execution_count": 5,
   "metadata": {},
   "outputs": [
    {
     "name": "stdout",
     "output_type": "stream",
     "text": [
      "       Distância Ruidosa  Velocidade Ruidosa  Capacidade de Frenagem Ruidosa\n",
      "0               0.000000            0.000000                          1.3950\n",
      "1               0.000000            0.000000                          1.1625\n",
      "2               1.579846            0.000000                          0.9300\n",
      "3               0.282185            0.000000                          0.7800\n",
      "4               0.394876            0.000000                          0.6500\n",
      "...                  ...                 ...                             ...\n",
      "57280        2000.433820           26.977928                          1.3950\n",
      "57281        1999.988138           28.886308                          1.1625\n",
      "57282        1998.246886           28.409583                          0.9300\n",
      "57283        2002.044078           27.358991                          0.7800\n",
      "57284        1998.055064           27.991858                          0.6500\n",
      "\n",
      "[57285 rows x 3 columns]\n",
      "       Decisão\n",
      "0          1.0\n",
      "1          1.0\n",
      "2          1.0\n",
      "3          1.0\n",
      "4          1.0\n",
      "...        ...\n",
      "57280      0.0\n",
      "57281      0.0\n",
      "57282      0.0\n",
      "57283      0.0\n",
      "57284      0.0\n",
      "\n",
      "[57285 rows x 1 columns]\n"
     ]
    }
   ],
   "source": [
    "#Define as entradas e as saídas do dataset\n",
    "pp_data_inputs = pp_dataset.drop(columns = ['Decisão'])\n",
    "print(pp_data_inputs)\n",
    "\n",
    "pp_data_outputs = pp_dataset[['Decisão']]\n",
    "print(pp_data_outputs)\n"
   ]
  },
  {
   "cell_type": "code",
   "execution_count": 6,
   "metadata": {},
   "outputs": [
    {
     "name": "stdout",
     "output_type": "stream",
     "text": [
      "{'criterion': ['entropy', 'gini'], 'max_depth': [1, 2, 3, 4, 5, 6, 7, 8], 'min_samples_split': [2, 5, 8, 11, 14, 17], 'min_samples_leaf': [1, 4, 7, 10, 13, 16], 'min_weight_fraction_leaf': [0.0, 0.125, 0.25, 0.375, 0.5], 'max_leaf_nodes': [200, 210, 220, 230, 240, 250, 260, 270, 280, 290, 300, 310, 320, 330, 340, 350, 360, 370, 380, 390, 400, 410, 420, 430, 440, 450, 460, 470, 480, 490, 500, None], 'max_features': [1, 2, 3, 'log2', 'sqrt', None], 'bootstrap': [False, True], 'n_estimators': [3]}\n",
      "Tempo estimado de processamento: 178.6 segundos\n"
     ]
    }
   ],
   "source": [
    "random_state = 1\n",
    "\n",
    "# Definição dos hiperparâmetros\n",
    "\n",
    "#n_estimators = [int(x) for x in np.arange(2, 11, step = 1)]\n",
    "\n",
    "n_estimators = [int(x) for x in np.arange(3, 4, step = 1)]\n",
    "\n",
    "criterion = ['entropy', 'gini']\n",
    "\n",
    "max_depth = [int(x) for x in np.arange(1, 9, step = 1)] # max_depth já limitado\n",
    "\n",
    "min_samples_split = [int(x) for x in np.arange(2, 18, step = 3)]\n",
    "\n",
    "min_samples_leaf = [int(x) for x in np.arange(1, 18, step = 3)]\n",
    "\n",
    "min_weight_fraction_leaf = [float(x) for x in np.linspace(0,0.5,5)]\n",
    "\n",
    "max_leaf_nodes = [int(x) for x in np.arange(200, 510, step = 10)]\n",
    "max_leaf_nodes.append(None)\n",
    "\n",
    "max_features = [int(x) for x in np.arange(1, 4, step = 1)] \n",
    "max_features.append('log2')\n",
    "max_features.append('sqrt')\n",
    "max_features.append(None)\n",
    "\n",
    "bootstrap = [False, True]\n",
    "\n",
    "hyperparameters_settings = {'criterion'                : criterion,\n",
    "                            'max_depth'                : max_depth,\n",
    "                            'min_samples_split'        : min_samples_split,\n",
    "                            'min_samples_leaf'         : min_samples_leaf,\n",
    "                            'min_weight_fraction_leaf' : min_weight_fraction_leaf,\n",
    "                            'max_leaf_nodes'           : max_leaf_nodes,\n",
    "                            'max_features'             : max_features,\n",
    "                            'bootstrap'                : bootstrap,\n",
    "                            'n_estimators'             : n_estimators\n",
    "                           }\n",
    "\n",
    "print(hyperparameters_settings)\n",
    "\n",
    "# Metrica de performance\n",
    "scoring = 'recall'\n",
    "\n",
    "# Número de partições\n",
    "k_fold = 10 \n",
    "n_iter = 2500\n",
    "\n",
    "print('Tempo estimado de processamento:', round((n_iter*10)/140,1), 'segundos')\n"
   ]
  },
  {
   "cell_type": "code",
   "execution_count": 7,
   "metadata": {},
   "outputs": [
    {
     "name": "stdout",
     "output_type": "stream",
     "text": [
      "Fitting 10 folds for each of 2500 candidates, totalling 25000 fits\n"
     ]
    },
    {
     "name": "stderr",
     "output_type": "stream",
     "text": [
      "c:\\Users\\R2D2\\AppData\\Local\\Programs\\Python\\Python39\\lib\\site-packages\\sklearn\\model_selection\\_search.py:910: DataConversionWarning: A column-vector y was passed when a 1d array was expected. Please change the shape of y to (n_samples,), for example using ravel().\n",
      "  self.best_estimator_.fit(X, y, **fit_params)\n"
     ]
    },
    {
     "data": {
      "text/html": [
       "<style>#sk-container-id-1 {color: black;background-color: white;}#sk-container-id-1 pre{padding: 0;}#sk-container-id-1 div.sk-toggleable {background-color: white;}#sk-container-id-1 label.sk-toggleable__label {cursor: pointer;display: block;width: 100%;margin-bottom: 0;padding: 0.3em;box-sizing: border-box;text-align: center;}#sk-container-id-1 label.sk-toggleable__label-arrow:before {content: \"▸\";float: left;margin-right: 0.25em;color: #696969;}#sk-container-id-1 label.sk-toggleable__label-arrow:hover:before {color: black;}#sk-container-id-1 div.sk-estimator:hover label.sk-toggleable__label-arrow:before {color: black;}#sk-container-id-1 div.sk-toggleable__content {max-height: 0;max-width: 0;overflow: hidden;text-align: left;background-color: #f0f8ff;}#sk-container-id-1 div.sk-toggleable__content pre {margin: 0.2em;color: black;border-radius: 0.25em;background-color: #f0f8ff;}#sk-container-id-1 input.sk-toggleable__control:checked~div.sk-toggleable__content {max-height: 200px;max-width: 100%;overflow: auto;}#sk-container-id-1 input.sk-toggleable__control:checked~label.sk-toggleable__label-arrow:before {content: \"▾\";}#sk-container-id-1 div.sk-estimator input.sk-toggleable__control:checked~label.sk-toggleable__label {background-color: #d4ebff;}#sk-container-id-1 div.sk-label input.sk-toggleable__control:checked~label.sk-toggleable__label {background-color: #d4ebff;}#sk-container-id-1 input.sk-hidden--visually {border: 0;clip: rect(1px 1px 1px 1px);clip: rect(1px, 1px, 1px, 1px);height: 1px;margin: -1px;overflow: hidden;padding: 0;position: absolute;width: 1px;}#sk-container-id-1 div.sk-estimator {font-family: monospace;background-color: #f0f8ff;border: 1px dotted black;border-radius: 0.25em;box-sizing: border-box;margin-bottom: 0.5em;}#sk-container-id-1 div.sk-estimator:hover {background-color: #d4ebff;}#sk-container-id-1 div.sk-parallel-item::after {content: \"\";width: 100%;border-bottom: 1px solid gray;flex-grow: 1;}#sk-container-id-1 div.sk-label:hover label.sk-toggleable__label {background-color: #d4ebff;}#sk-container-id-1 div.sk-serial::before {content: \"\";position: absolute;border-left: 1px solid gray;box-sizing: border-box;top: 0;bottom: 0;left: 50%;z-index: 0;}#sk-container-id-1 div.sk-serial {display: flex;flex-direction: column;align-items: center;background-color: white;padding-right: 0.2em;padding-left: 0.2em;position: relative;}#sk-container-id-1 div.sk-item {position: relative;z-index: 1;}#sk-container-id-1 div.sk-parallel {display: flex;align-items: stretch;justify-content: center;background-color: white;position: relative;}#sk-container-id-1 div.sk-item::before, #sk-container-id-1 div.sk-parallel-item::before {content: \"\";position: absolute;border-left: 1px solid gray;box-sizing: border-box;top: 0;bottom: 0;left: 50%;z-index: -1;}#sk-container-id-1 div.sk-parallel-item {display: flex;flex-direction: column;z-index: 1;position: relative;background-color: white;}#sk-container-id-1 div.sk-parallel-item:first-child::after {align-self: flex-end;width: 50%;}#sk-container-id-1 div.sk-parallel-item:last-child::after {align-self: flex-start;width: 50%;}#sk-container-id-1 div.sk-parallel-item:only-child::after {width: 0;}#sk-container-id-1 div.sk-dashed-wrapped {border: 1px dashed gray;margin: 0 0.4em 0.5em 0.4em;box-sizing: border-box;padding-bottom: 0.4em;background-color: white;}#sk-container-id-1 div.sk-label label {font-family: monospace;font-weight: bold;display: inline-block;line-height: 1.2em;}#sk-container-id-1 div.sk-label-container {text-align: center;}#sk-container-id-1 div.sk-container {/* jupyter's `normalize.less` sets `[hidden] { display: none; }` but bootstrap.min.css set `[hidden] { display: none !important; }` so we also need the `!important` here to be able to override the default hidden behavior on the sphinx rendered scikit-learn.org. See: https://github.com/scikit-learn/scikit-learn/issues/21755 */display: inline-block !important;position: relative;}#sk-container-id-1 div.sk-text-repr-fallback {display: none;}</style><div id=\"sk-container-id-1\" class=\"sk-top-container\"><div class=\"sk-text-repr-fallback\"><pre>RandomizedSearchCV(cv=KFold(n_splits=10, random_state=None, shuffle=True),\n",
       "                   estimator=RandomForestClassifier(), n_iter=2500, n_jobs=-1,\n",
       "                   param_distributions={&#x27;bootstrap&#x27;: [False, True],\n",
       "                                        &#x27;criterion&#x27;: [&#x27;entropy&#x27;, &#x27;gini&#x27;],\n",
       "                                        &#x27;max_depth&#x27;: [1, 2, 3, 4, 5, 6, 7, 8],\n",
       "                                        &#x27;max_features&#x27;: [1, 2, 3, &#x27;log2&#x27;,\n",
       "                                                         &#x27;sqrt&#x27;, None],\n",
       "                                        &#x27;max_leaf_nodes&#x27;: [200, 210, 220, 230,\n",
       "                                                           240, 250, 260, 270,\n",
       "                                                           280, 290, 300, 310,\n",
       "                                                           320, 330, 340, 350,\n",
       "                                                           360, 370, 380, 390,\n",
       "                                                           400, 410, 420, 430,\n",
       "                                                           440, 450, 460, 470,\n",
       "                                                           480, 490, ...],\n",
       "                                        &#x27;min_samples_leaf&#x27;: [1, 4, 7, 10, 13,\n",
       "                                                             16],\n",
       "                                        &#x27;min_samples_split&#x27;: [2, 5, 8, 11, 14,\n",
       "                                                              17],\n",
       "                                        &#x27;min_weight_fraction_leaf&#x27;: [0.0, 0.125,\n",
       "                                                                     0.25,\n",
       "                                                                     0.375,\n",
       "                                                                     0.5],\n",
       "                                        &#x27;n_estimators&#x27;: [3]},\n",
       "                   scoring=&#x27;recall&#x27;, verbose=3)</pre><b>In a Jupyter environment, please rerun this cell to show the HTML representation or trust the notebook. <br />On GitHub, the HTML representation is unable to render, please try loading this page with nbviewer.org.</b></div><div class=\"sk-container\" hidden><div class=\"sk-item sk-dashed-wrapped\"><div class=\"sk-label-container\"><div class=\"sk-label sk-toggleable\"><input class=\"sk-toggleable__control sk-hidden--visually\" id=\"sk-estimator-id-1\" type=\"checkbox\" ><label for=\"sk-estimator-id-1\" class=\"sk-toggleable__label sk-toggleable__label-arrow\">RandomizedSearchCV</label><div class=\"sk-toggleable__content\"><pre>RandomizedSearchCV(cv=KFold(n_splits=10, random_state=None, shuffle=True),\n",
       "                   estimator=RandomForestClassifier(), n_iter=2500, n_jobs=-1,\n",
       "                   param_distributions={&#x27;bootstrap&#x27;: [False, True],\n",
       "                                        &#x27;criterion&#x27;: [&#x27;entropy&#x27;, &#x27;gini&#x27;],\n",
       "                                        &#x27;max_depth&#x27;: [1, 2, 3, 4, 5, 6, 7, 8],\n",
       "                                        &#x27;max_features&#x27;: [1, 2, 3, &#x27;log2&#x27;,\n",
       "                                                         &#x27;sqrt&#x27;, None],\n",
       "                                        &#x27;max_leaf_nodes&#x27;: [200, 210, 220, 230,\n",
       "                                                           240, 250, 260, 270,\n",
       "                                                           280, 290, 300, 310,\n",
       "                                                           320, 330, 340, 350,\n",
       "                                                           360, 370, 380, 390,\n",
       "                                                           400, 410, 420, 430,\n",
       "                                                           440, 450, 460, 470,\n",
       "                                                           480, 490, ...],\n",
       "                                        &#x27;min_samples_leaf&#x27;: [1, 4, 7, 10, 13,\n",
       "                                                             16],\n",
       "                                        &#x27;min_samples_split&#x27;: [2, 5, 8, 11, 14,\n",
       "                                                              17],\n",
       "                                        &#x27;min_weight_fraction_leaf&#x27;: [0.0, 0.125,\n",
       "                                                                     0.25,\n",
       "                                                                     0.375,\n",
       "                                                                     0.5],\n",
       "                                        &#x27;n_estimators&#x27;: [3]},\n",
       "                   scoring=&#x27;recall&#x27;, verbose=3)</pre></div></div></div><div class=\"sk-parallel\"><div class=\"sk-parallel-item\"><div class=\"sk-item\"><div class=\"sk-label-container\"><div class=\"sk-label sk-toggleable\"><input class=\"sk-toggleable__control sk-hidden--visually\" id=\"sk-estimator-id-2\" type=\"checkbox\" ><label for=\"sk-estimator-id-2\" class=\"sk-toggleable__label sk-toggleable__label-arrow\">estimator: RandomForestClassifier</label><div class=\"sk-toggleable__content\"><pre>RandomForestClassifier()</pre></div></div></div><div class=\"sk-serial\"><div class=\"sk-item\"><div class=\"sk-estimator sk-toggleable\"><input class=\"sk-toggleable__control sk-hidden--visually\" id=\"sk-estimator-id-3\" type=\"checkbox\" ><label for=\"sk-estimator-id-3\" class=\"sk-toggleable__label sk-toggleable__label-arrow\">RandomForestClassifier</label><div class=\"sk-toggleable__content\"><pre>RandomForestClassifier()</pre></div></div></div></div></div></div></div></div></div></div>"
      ],
      "text/plain": [
       "RandomizedSearchCV(cv=KFold(n_splits=10, random_state=None, shuffle=True),\n",
       "                   estimator=RandomForestClassifier(), n_iter=2500, n_jobs=-1,\n",
       "                   param_distributions={'bootstrap': [False, True],\n",
       "                                        'criterion': ['entropy', 'gini'],\n",
       "                                        'max_depth': [1, 2, 3, 4, 5, 6, 7, 8],\n",
       "                                        'max_features': [1, 2, 3, 'log2',\n",
       "                                                         'sqrt', None],\n",
       "                                        'max_leaf_nodes': [200, 210, 220, 230,\n",
       "                                                           240, 250, 260, 270,\n",
       "                                                           280, 290, 300, 310,\n",
       "                                                           320, 330, 340, 350,\n",
       "                                                           360, 370, 380, 390,\n",
       "                                                           400, 410, 420, 430,\n",
       "                                                           440, 450, 460, 470,\n",
       "                                                           480, 490, ...],\n",
       "                                        'min_samples_leaf': [1, 4, 7, 10, 13,\n",
       "                                                             16],\n",
       "                                        'min_samples_split': [2, 5, 8, 11, 14,\n",
       "                                                              17],\n",
       "                                        'min_weight_fraction_leaf': [0.0, 0.125,\n",
       "                                                                     0.25,\n",
       "                                                                     0.375,\n",
       "                                                                     0.5],\n",
       "                                        'n_estimators': [3]},\n",
       "                   scoring='recall', verbose=3)"
      ]
     },
     "execution_count": 7,
     "metadata": {},
     "output_type": "execute_result"
    }
   ],
   "source": [
    "# Criação da árvore de decisão\n",
    "starting_random_forest= RandomForestClassifier()\n",
    "\n",
    "# Optimização dos hiperparâmetros com RandomSearch\n",
    "rfTries = RandomizedSearchCV(estimator = starting_random_forest, param_distributions = hyperparameters_settings, scoring = scoring,\n",
    "                            cv = KFold(n_splits = k_fold, shuffle = True), verbose = 3, n_jobs = -1, n_iter = n_iter)\n",
    "\n",
    "# Teste com os hiperparâmetros encontrados\n",
    "rfTries.fit(pp_data_inputs, pp_data_outputs)\n"
   ]
  },
  {
   "cell_type": "code",
   "execution_count": 18,
   "metadata": {},
   "outputs": [
    {
     "name": "stdout",
     "output_type": "stream",
     "text": [
      "{'n_estimators': 3, 'min_weight_fraction_leaf': 0.0, 'min_samples_split': 8, 'min_samples_leaf': 1, 'max_leaf_nodes': 380, 'max_features': 2, 'max_depth': 8, 'criterion': 'entropy', 'bootstrap': True}\n",
      "10 - Fold Best recall-score:  96.19867221868219\n"
     ]
    }
   ],
   "source": [
    "# Imprime valores ótimos dos hiperparâmetros\n",
    "print(rfTries.best_params_)\n",
    "print(k_fold,'- Fold Best recall-score: ', rfTries.best_score_*100)"
   ]
  },
  {
   "cell_type": "code",
   "execution_count": 14,
   "metadata": {},
   "outputs": [
    {
     "name": "stderr",
     "output_type": "stream",
     "text": [
      "C:\\Users\\R2D2\\AppData\\Local\\Temp\\ipykernel_420\\3539441362.py:19: DataConversionWarning: A column-vector y was passed when a 1d array was expected. Please change the shape of y to (n_samples,), for example using ravel().\n",
      "  final_random_forest.fit(inputsTrain, outputsTrain)\n"
     ]
    },
    {
     "name": "stdout",
     "output_type": "stream",
     "text": [
      "Accuracy: 99.04861656629134\n",
      "Precision: 94.98657117278424\n",
      "Recall: 95.2423698384201\n",
      "F1-Score: 95.11429852084265\n",
      "[[10287    56]\n",
      " [   53  1061]]\n"
     ]
    },
    {
     "data": {
      "image/png": "[encoded data removed]",
      "text/plain": [
       "<Figure size 200x200 with 2 Axes>"
      ]
     },
     "metadata": {
      "needs_background": "light"
     },
     "output_type": "display_data"
    }
   ],
   "source": [
    "# Árvore de decisão final\n",
    "final_random_forest = rfTries.best_estimator_\n",
    "\n",
    "# final_decision_tree_1 = RandomForestClassifier(criterion = 'entropy', \n",
    "#                                             max_depth = 16,\n",
    "#                                             n_estimators = 6,\n",
    "#                                             max_features = 3, \n",
    "#                                             max_leaf_nodes = 270, \n",
    "#                                             min_samples_leaf = 3, \n",
    "#                                             min_samples_split = 6,\n",
    "#                                             min_weight_fraction_leaf = 0, \n",
    "#                                             bootstrap = 'True')\n",
    "\n",
    "# Holdout test\n",
    "inputsTrain, inputsTest, outputsTrain, outputsTest = train_test_split(pp_data_inputs, \n",
    "                                                                      pp_data_outputs,\n",
    "                                                                      test_size = 0.2)\n",
    "\n",
    "final_random_forest.fit(inputsTrain, outputsTrain)\n",
    "\n",
    "# Valores preditos pela árvore treinada\n",
    "predicted_apply_brakes = final_random_forest.predict(inputsTest)\n",
    "\n",
    "# Métricas de performance\n",
    "finalAccuracy = accuracy_score(outputsTest, predicted_apply_brakes)\n",
    "finalPrecision = precision_score(outputsTest, predicted_apply_brakes)\n",
    "finalRecall = recall_score(outputsTest, predicted_apply_brakes)\n",
    "finalF1 = f1_score(outputsTest, predicted_apply_brakes)\n",
    "finalConfusionMatrix = confusion_matrix(outputsTest, predicted_apply_brakes)\n",
    "finalClassificationReport = classification_report(outputsTest, predicted_apply_brakes)\n",
    "\n",
    "plt.rcParams['figure.figsize'] = [2, 2]\n",
    "plt.rcParams['figure.dpi'] = 100\n",
    "# Plot da árvore de decisão treinada, comentado para diminuir tempo de execução\n",
    "# plot_tree(final_decision_tree)\n",
    "# plt.show()\n",
    "\n",
    "# Imprime resultados finais\n",
    "print('Accuracy:', finalAccuracy*100)\n",
    "print('Precision:', finalPrecision*100)\n",
    "print('Recall:', finalRecall*100)\n",
    "print('F1-Score:', finalF1*100)\n",
    "print(finalConfusionMatrix)\n",
    "ConfusionMatrixDisplay(finalConfusionMatrix).plot()\n",
    "plt.show()"
   ]
  },
  {
   "cell_type": "code",
   "execution_count": 15,
   "metadata": {},
   "outputs": [
    {
     "name": "stdout",
     "output_type": "stream",
     "text": [
      "******** Resultados DatasetT2 ********\n",
      "Accuracy: 99.18128654970761\n",
      "Precision: 96.14781244552903\n",
      "Recall: 95.69743233865371\n",
      "F1-Score: 95.92209373097991\n",
      "[[51300   221]\n",
      " [  248  5516]]\n"
     ]
    },
    {
     "data": {
      "image/png": "[encoded data removed]",
      "text/plain": [
       "<Figure size 200x200 with 2 Axes>"
      ]
     },
     "metadata": {
      "needs_background": "light"
     },
     "output_type": "display_data"
    }
   ],
   "source": [
    "\n",
    "pp_dataset_test = pre_processing(f\"DatasetT2.csv\")\n",
    "\n",
    "# Define entradas e saída\n",
    "pp_data_inputs_test = pp_dataset_test.drop(columns = ['Decisão'])\n",
    "pp_data_outputs_test = pp_dataset_test[['Decisão']]\n",
    "\n",
    "# Valores preditos pela árvore treinada\n",
    "predicted_apply_brakes = final_random_forest.predict(pp_data_inputs_test)\n",
    "\n",
    "# Métricas de performance\n",
    "finalAccuracy = accuracy_score(pp_data_outputs_test, predicted_apply_brakes)\n",
    "finalPrecision = precision_score(pp_data_outputs_test, predicted_apply_brakes)\n",
    "finalRecall = recall_score(pp_data_outputs_test, predicted_apply_brakes)\n",
    "finalF1 = f1_score(pp_data_outputs_test, predicted_apply_brakes)\n",
    "finalConfusionMatrix = confusion_matrix(pp_data_outputs_test, predicted_apply_brakes)\n",
    "finalClassificationReport = classification_report(pp_data_outputs_test, predicted_apply_brakes)\n",
    "\n",
    "# Imprime resultados finais\n",
    "print(f'******** Resultados DatasetT2 ********')\n",
    "print('Accuracy:', finalAccuracy*100)\n",
    "print('Precision:', finalPrecision*100)\n",
    "print('Recall:', finalRecall*100)\n",
    "print('F1-Score:', finalF1*100)\n",
    "print(finalConfusionMatrix)\n",
    "ConfusionMatrixDisplay(finalConfusionMatrix).plot()\n",
    "plt.show()"
   ]
  },
  {
   "cell_type": "code",
   "execution_count": 16,
   "metadata": {},
   "outputs": [
    {
     "name": "stdout",
     "output_type": "stream",
     "text": [
      "       Distância Ruidosa  Velocidade Ruidosa  Capacidade de Frenagem Ruidosa\n",
      "0                    0.0                 0.0                          1.3950\n",
      "1                    0.0                 0.0                          1.1625\n",
      "2                    0.0                 0.0                          0.9300\n",
      "3                    0.0                 0.0                          0.7800\n",
      "4                    0.0                 0.0                          0.6500\n",
      "...                  ...                 ...                             ...\n",
      "57280             2000.0                28.0                          1.3950\n",
      "57281             2000.0                28.0                          1.1625\n",
      "57282             2000.0                28.0                          0.9300\n",
      "57283             2000.0                28.0                          0.7800\n",
      "57284             2000.0                28.0                          0.6500\n",
      "\n",
      "[57285 rows x 3 columns]\n",
      "       Decisão\n",
      "0          1.0\n",
      "1          1.0\n",
      "2          1.0\n",
      "3          1.0\n",
      "4          1.0\n",
      "...        ...\n",
      "57280      0.0\n",
      "57281      0.0\n",
      "57282      0.0\n",
      "57283      0.0\n",
      "57284      0.0\n",
      "\n",
      "[57285 rows x 1 columns]\n"
     ]
    }
   ],
   "source": [
    "# Teste para dataset sem ruído \n",
    "dataColumns = ['Distancia Ruidosa', 'Velocidade Ruidosa', 'Capacidade de Frenagem Ruidosa', 'Distancia', 'Velocidade', \n",
    "                'Capacidade de Frenagem', 'Decisão', 'Aceleracao', 'AW', 'AG', 'VH', 'VC', 'V50', 'DS', 'Decisao Ruidosa', \n",
    "                'Aceleracao Ruidosa', 'AW Ruidosa', 'AG Ruidosa', 'VH Ruidosa', 'VC Ruidosa', 'V50 Ruidosa', 'DS Ruidosa']\n",
    "    \n",
    "pp_dataset_test = pd.read_csv(\"DatasetT&VDebug.csv\", header = None, names = dataColumns)\n",
    "\n",
    "pp_data_inputs_test = pp_dataset_test[['Distancia', 'Velocidade', 'Capacidade de Frenagem']]\n",
    "pp_data_inputs_test = pp_data_inputs_test.rename(columns={\"Distancia\":\"Distância Ruidosa\",\"Velocidade\":\"Velocidade Ruidosa\", \"Capacidade de Frenagem\":\"Capacidade de Frenagem Ruidosa\"})\n",
    "\n",
    "print(pp_data_inputs_test)\n",
    "\n",
    "pp_data_outputs_test = pp_dataset_test[['Decisão']]\n",
    "\n",
    "print(pp_data_outputs_test)\n",
    "\n"
   ]
  },
  {
   "cell_type": "code",
   "execution_count": 17,
   "metadata": {},
   "outputs": [
    {
     "name": "stdout",
     "output_type": "stream",
     "text": [
      "******** Resultados dataset sem ruido ********\n",
      "Accuracy: 99.3401413982718\n",
      "Precision: 96.80222453945082\n",
      "Recall: 96.63428174878557\n",
      "F1-Score: 96.71818023962493\n",
      "[[51337   184]\n",
      " [  194  5570]]\n"
     ]
    },
    {
     "data": {
      "image/png": "[encoded data removed]",
      "text/plain": [
       "<Figure size 200x200 with 2 Axes>"
      ]
     },
     "metadata": {
      "needs_background": "light"
     },
     "output_type": "display_data"
    }
   ],
   "source": [
    "# Valores preditos pela árvore treinada\n",
    "predicted_apply_brakes = final_random_forest.predict(pp_data_inputs_test)\n",
    "\n",
    "# Métricas de performance\n",
    "finalAccuracy = accuracy_score(pp_data_outputs_test, predicted_apply_brakes)\n",
    "finalPrecision = precision_score(pp_data_outputs_test, predicted_apply_brakes)\n",
    "finalRecall = recall_score(pp_data_outputs_test, predicted_apply_brakes)\n",
    "finalF1 = f1_score(pp_data_outputs_test, predicted_apply_brakes)\n",
    "finalConfusionMatrix = confusion_matrix(pp_data_outputs_test, predicted_apply_brakes)\n",
    "finalClassificationReport = classification_report(pp_data_outputs_test, predicted_apply_brakes)\n",
    "\n",
    "# Imprime resultados finais\n",
    "print(f'******** Resultados dataset sem ruido ********')\n",
    "print('Accuracy:', finalAccuracy*100)\n",
    "print('Precision:', finalPrecision*100)\n",
    "print('Recall:', finalRecall*100)\n",
    "print('F1-Score:', finalF1*100)\n",
    "print(finalConfusionMatrix)\n",
    "ConfusionMatrixDisplay(finalConfusionMatrix).plot()\n",
    "plt.show()  "
   ]
  }
 ],
 "metadata": {
  "kernelspec": {
   "display_name": "Python 3 (ipykernel)",
   "language": "python",
   "name": "python3"
  },
  "language_info": {
   "codemirror_mode": {
    "name": "ipython",
    "version": 3
   },
   "file_extension": ".py",
   "mimetype": "text/x-python",
   "name": "python",
   "nbconvert_exporter": "python",
   "pygments_lexer": "ipython3",
   "version": "3.9.13 (tags/v3.9.13:6de2ca5, May 17 2022, 16:36:42) [MSC v.1929 64 bit (AMD64)]"
  },
  "vscode": {
   "interpreter": {
    "hash": "ed3204535e0d33657ce63df17c70ff982e319d78fbe8f1243c6c262c26265b53"
   }
  }
 },
 "nbformat": 4,
 "nbformat_minor": 2
}
