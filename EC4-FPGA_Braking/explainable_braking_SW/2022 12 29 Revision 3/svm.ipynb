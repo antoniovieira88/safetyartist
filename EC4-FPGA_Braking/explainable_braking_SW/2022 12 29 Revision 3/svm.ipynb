{
 "cells": [
  {
   "cell_type": "code",
   "execution_count": 1,
   "metadata": {},
   "outputs": [],
   "source": [
    "import numpy as np\n",
    "import pandas as pd\n",
    "import matplotlib.pyplot as plt\n",
    "from numpy import ravel\n",
    "from sklearn.tree import DecisionTreeClassifier\n",
    "from sklearn.tree import plot_tree\n",
    "from sklearn.tree import export_graphviz\n",
    "from sklearn.preprocessing import MinMaxScaler\n",
    "from sklearn.model_selection import train_test_split\n",
    "from sklearn.model_selection import StratifiedKFold\n",
    "from sklearn.model_selection import cross_val_score\n",
    "from sklearn.model_selection import RandomizedSearchCV\n",
    "from sklearn.model_selection import GridSearchCV\n",
    "from sklearn.model_selection import KFold\n",
    "from sklearn import preprocessing\n",
    "from sklearn import model_selection\n",
    "from sklearn.svm import SVC\n",
    "from sklearn.metrics import ConfusionMatrixDisplay\n",
    "from sklearn.metrics import make_scorer, confusion_matrix, accuracy_score, precision_score, recall_score, f1_score, classification_report \n",
    "from stratify import StratifyData\n",
    "from scipy.stats import mode"
   ]
  },
  {
   "cell_type": "code",
   "execution_count": 2,
   "metadata": {},
   "outputs": [],
   "source": [
    "def pre_processing(address):\n",
    "    dataColumns = [\"Distância Ruidosa\", \"Velocidade Ruidosa\", \"Capacidade de Frenagem Ruidosa\",\n",
    "                    \"Decisão\"]\n",
    "    \n",
    "    dataset = pd.read_csv(address, header = None, names = dataColumns)\n",
    "\n",
    "    #Define as entradas e as saídas do dataset\n",
    "    inputs = dataset.drop(columns = ['Decisão'])\n",
    "\n",
    "    outputs = dataset[['Decisão']]\n",
    "\n",
    "    outputs = outputs.replace(to_replace=0, value=-1)\n",
    "\n",
    "    return inputs, outputs"
   ]
  },
  {
   "cell_type": "code",
   "execution_count": 21,
   "metadata": {},
   "outputs": [
    {
     "name": "stdout",
     "output_type": "stream",
     "text": [
      "       Distância Ruidosa  Velocidade Ruidosa  Capacidade de Frenagem Ruidosa\n",
      "0               0.000000            0.000000                          1.3950\n",
      "1               0.000000            0.000000                          1.1625\n",
      "2               1.579846            0.000000                          0.9300\n",
      "3               0.282185            0.000000                          0.7800\n",
      "4               0.394876            0.000000                          0.6500\n",
      "...                  ...                 ...                             ...\n",
      "57280        2000.433820           26.977928                          1.3950\n",
      "57281        1999.988138           28.886308                          1.1625\n",
      "57282        1998.246886           28.409583                          0.9300\n",
      "57283        2002.044078           27.358991                          0.7800\n",
      "57284        1998.055064           27.991858                          0.6500\n",
      "\n",
      "[57285 rows x 3 columns]\n",
      "       Decisão\n",
      "0          1.0\n",
      "1          1.0\n",
      "2          1.0\n",
      "3          1.0\n",
      "4          1.0\n",
      "...        ...\n",
      "57280     -1.0\n",
      "57281     -1.0\n",
      "57282     -1.0\n",
      "57283     -1.0\n",
      "57284     -1.0\n",
      "\n",
      "[57285 rows x 1 columns]\n",
      "51521\n"
     ]
    }
   ],
   "source": [
    "pp_data_inputs, pp_data_outputs = pre_processing(\"DatasetT&V.csv\")\n",
    "print(pp_data_inputs)\n",
    "print(pp_data_outputs)\n",
    "\n",
    "n_data_minus_one = len(pp_data_outputs[pp_data_outputs['Decisão'] == -1])\n",
    "print(n_data_minus_one)"
   ]
  },
  {
   "cell_type": "code",
   "execution_count": 8,
   "metadata": {},
   "outputs": [
    {
     "name": "stdout",
     "output_type": "stream",
     "text": [
      "{'C': [0.1, 0.2, 0.30000000000000004, 0.4, 0.5, 0.6, 0.7000000000000001, 0.8, 0.9, 1.0], 'kernel': ['linear', 'poly', 'rbf', 'sigmoid'], 'degree': [2, 4, 6, 8, 10], 'gamma': ['auto', 'scale'], 'coef0': [0.1, 0.35, 0.6, 0.8499999999999999, 1.0999999999999999], 'shrinking': [True, False], 'tol': [0.001, 0.0001], 'decision_function_shape': ['ovo', 'ovr'], 'max_iter': [75000, 80000, 85000, 90000, 95000, 100000, 105000, 110000, 115000, 120000, 125000]}\n"
     ]
    }
   ],
   "source": [
    "# C\n",
    "C = [float(x) for x in np.arange(0.1, 1+0.1, step = 0.1)]\n",
    "\n",
    "# kernel\n",
    "kernel = ['linear', 'poly', 'rbf', 'sigmoid']\n",
    "\n",
    "# degree\n",
    "degree = [int(x) for x in np.arange(2, 10+2, step = 2)]\n",
    "\n",
    "# gamma\n",
    "gamma = ['auto', 'scale']\n",
    "\n",
    "# coef0\n",
    "coef0 = [float(x) for x in np.arange(0.1, 1+0.25, step = 0.25)]\n",
    "\n",
    "# shrinking\n",
    "shrinking = [True, False]\n",
    "\n",
    "# tol\n",
    "tol = [0.001, 0.0001]\n",
    "\n",
    "# decision_function_shape\n",
    "decision_function_shape = ['ovo', 'ovr']\n",
    "\n",
    "# max_iter\n",
    "max_iter = [int(x) for x in np.linspace(start = 75000, stop = 125000, num = 11)]\n",
    "\n",
    "# Montagem da estrutura de dados para o treinamento de otimização dos hiperparâmetros com as variações anteriores.\n",
    "randParams = {'C'                       : C,\n",
    "              'kernel'                  : kernel,\n",
    "              'degree'                  : degree,\n",
    "              'gamma'                   : gamma,\n",
    "              'coef0'                   : coef0,\n",
    "              'shrinking'               : shrinking,\n",
    "              'tol'                     : tol,\n",
    "              'decision_function_shape' : decision_function_shape,\n",
    "              'max_iter'                : max_iter\n",
    "             }\n",
    "\n",
    "# Definição da lista de métricas\n",
    "scoring = 'recall'\n",
    "\n",
    "print (randParams)"
   ]
  },
  {
   "cell_type": "code",
   "execution_count": 9,
   "metadata": {},
   "outputs": [
    {
     "name": "stdout",
     "output_type": "stream",
     "text": [
      "Fitting 10 folds for each of 100 candidates, totalling 1000 fits\n"
     ]
    },
    {
     "name": "stderr",
     "output_type": "stream",
     "text": [
      "c:\\Users\\R2D2\\AppData\\Local\\Programs\\Python\\Python39\\lib\\site-packages\\sklearn\\model_selection\\_validation.py:378: FitFailedWarning: \n",
      "80 fits failed out of a total of 1000.\n",
      "The score on these train-test partitions for these parameters will be set to nan.\n",
      "If these failures are not expected, you can try to debug them by setting error_score='raise'.\n",
      "\n",
      "Below are more details about the failures:\n",
      "--------------------------------------------------------------------------------\n",
      "80 fits failed with the following error:\n",
      "Traceback (most recent call last):\n",
      "  File \"c:\\Users\\R2D2\\AppData\\Local\\Programs\\Python\\Python39\\lib\\site-packages\\sklearn\\model_selection\\_validation.py\", line 686, in _fit_and_score\n",
      "    estimator.fit(X_train, y_train, **fit_params)\n",
      "  File \"c:\\Users\\R2D2\\AppData\\Local\\Programs\\Python\\Python39\\lib\\site-packages\\sklearn\\svm\\_base.py\", line 269, in fit\n",
      "    raise ValueError(\n",
      "ValueError: The dual coefficients or intercepts are not finite. The input data may contain large values and need to bepreprocessed.\n",
      "\n",
      "  warnings.warn(some_fits_failed_message, FitFailedWarning)\n",
      "c:\\Users\\R2D2\\AppData\\Local\\Programs\\Python\\Python39\\lib\\site-packages\\sklearn\\model_selection\\_search.py:953: UserWarning: One or more of the test scores are non-finite: [0.88746813 0.         0.47351134 0.64411655        nan 0.51621035\n",
      " 0.45656241 0.72500984 0.72483347 0.65082134 0.50795276 0.77552023\n",
      " 0.48694698 0.88450475 0.09178932 0.70009631 0.92306374 0.82389241\n",
      " 0.88933276 0.86234853 0.67750397 0.92932879 0.         0.87878446\n",
      " 0.5076065  0.6899807  0.47351134        nan 0.91577188 0.91157505\n",
      " 0.87235509 0.92690658        nan 0.61619811 0.91015183        nan\n",
      "        nan 0.64137105 0.92690658 0.5076065  0.9162261  0.8858348\n",
      " 0.         0.45535838        nan 0.87878446 0.4850261  0.66534742\n",
      " 0.6671067  0.90675467 0.45864152 0.53357814 0.60402402        nan\n",
      " 0.53359658 0.89163105 0.64127082 0.88450475 0.90675467 0.\n",
      " 0.48038412 0.91132834 0.76655605 0.86234853 0.90049251 0.62367165\n",
      " 0.88884931 0.         0.91884109        nan 0.         0.43360275\n",
      " 0.88450475 0.53357814 0.53359658 0.87783653 0.92426925 0.70111499\n",
      " 0.92725407 0.         0.90873815 0.65082134 0.90049251 0.71358805\n",
      " 0.88877101 0.67687188 0.89163105 0.62367165 0.92130407 0.62301873\n",
      " 0.59833487 0.88450475 0.76655605 0.92534031 0.47538954 0.76655605\n",
      " 0.         0.61567055 0.72483347 0.88965404]\n",
      "  warnings.warn(\n",
      "c:\\Users\\R2D2\\AppData\\Local\\Programs\\Python\\Python39\\lib\\site-packages\\sklearn\\utils\\validation.py:1111: DataConversionWarning: A column-vector y was passed when a 1d array was expected. Please change the shape of y to (n_samples, ), for example using ravel().\n",
      "  y = column_or_1d(y, warn=True)\n",
      "c:\\Users\\R2D2\\AppData\\Local\\Programs\\Python\\Python39\\lib\\site-packages\\sklearn\\svm\\_base.py:301: ConvergenceWarning: Solver terminated early (max_iter=100000).  Consider pre-processing your data with StandardScaler or MinMaxScaler.\n",
      "  warnings.warn(\n"
     ]
    },
    {
     "data": {
      "text/html": [
       "<style>#sk-container-id-1 {color: black;background-color: white;}#sk-container-id-1 pre{padding: 0;}#sk-container-id-1 div.sk-toggleable {background-color: white;}#sk-container-id-1 label.sk-toggleable__label {cursor: pointer;display: block;width: 100%;margin-bottom: 0;padding: 0.3em;box-sizing: border-box;text-align: center;}#sk-container-id-1 label.sk-toggleable__label-arrow:before {content: \"▸\";float: left;margin-right: 0.25em;color: #696969;}#sk-container-id-1 label.sk-toggleable__label-arrow:hover:before {color: black;}#sk-container-id-1 div.sk-estimator:hover label.sk-toggleable__label-arrow:before {color: black;}#sk-container-id-1 div.sk-toggleable__content {max-height: 0;max-width: 0;overflow: hidden;text-align: left;background-color: #f0f8ff;}#sk-container-id-1 div.sk-toggleable__content pre {margin: 0.2em;color: black;border-radius: 0.25em;background-color: #f0f8ff;}#sk-container-id-1 input.sk-toggleable__control:checked~div.sk-toggleable__content {max-height: 200px;max-width: 100%;overflow: auto;}#sk-container-id-1 input.sk-toggleable__control:checked~label.sk-toggleable__label-arrow:before {content: \"▾\";}#sk-container-id-1 div.sk-estimator input.sk-toggleable__control:checked~label.sk-toggleable__label {background-color: #d4ebff;}#sk-container-id-1 div.sk-label input.sk-toggleable__control:checked~label.sk-toggleable__label {background-color: #d4ebff;}#sk-container-id-1 input.sk-hidden--visually {border: 0;clip: rect(1px 1px 1px 1px);clip: rect(1px, 1px, 1px, 1px);height: 1px;margin: -1px;overflow: hidden;padding: 0;position: absolute;width: 1px;}#sk-container-id-1 div.sk-estimator {font-family: monospace;background-color: #f0f8ff;border: 1px dotted black;border-radius: 0.25em;box-sizing: border-box;margin-bottom: 0.5em;}#sk-container-id-1 div.sk-estimator:hover {background-color: #d4ebff;}#sk-container-id-1 div.sk-parallel-item::after {content: \"\";width: 100%;border-bottom: 1px solid gray;flex-grow: 1;}#sk-container-id-1 div.sk-label:hover label.sk-toggleable__label {background-color: #d4ebff;}#sk-container-id-1 div.sk-serial::before {content: \"\";position: absolute;border-left: 1px solid gray;box-sizing: border-box;top: 0;bottom: 0;left: 50%;z-index: 0;}#sk-container-id-1 div.sk-serial {display: flex;flex-direction: column;align-items: center;background-color: white;padding-right: 0.2em;padding-left: 0.2em;position: relative;}#sk-container-id-1 div.sk-item {position: relative;z-index: 1;}#sk-container-id-1 div.sk-parallel {display: flex;align-items: stretch;justify-content: center;background-color: white;position: relative;}#sk-container-id-1 div.sk-item::before, #sk-container-id-1 div.sk-parallel-item::before {content: \"\";position: absolute;border-left: 1px solid gray;box-sizing: border-box;top: 0;bottom: 0;left: 50%;z-index: -1;}#sk-container-id-1 div.sk-parallel-item {display: flex;flex-direction: column;z-index: 1;position: relative;background-color: white;}#sk-container-id-1 div.sk-parallel-item:first-child::after {align-self: flex-end;width: 50%;}#sk-container-id-1 div.sk-parallel-item:last-child::after {align-self: flex-start;width: 50%;}#sk-container-id-1 div.sk-parallel-item:only-child::after {width: 0;}#sk-container-id-1 div.sk-dashed-wrapped {border: 1px dashed gray;margin: 0 0.4em 0.5em 0.4em;box-sizing: border-box;padding-bottom: 0.4em;background-color: white;}#sk-container-id-1 div.sk-label label {font-family: monospace;font-weight: bold;display: inline-block;line-height: 1.2em;}#sk-container-id-1 div.sk-label-container {text-align: center;}#sk-container-id-1 div.sk-container {/* jupyter's `normalize.less` sets `[hidden] { display: none; }` but bootstrap.min.css set `[hidden] { display: none !important; }` so we also need the `!important` here to be able to override the default hidden behavior on the sphinx rendered scikit-learn.org. See: https://github.com/scikit-learn/scikit-learn/issues/21755 */display: inline-block !important;position: relative;}#sk-container-id-1 div.sk-text-repr-fallback {display: none;}</style><div id=\"sk-container-id-1\" class=\"sk-top-container\"><div class=\"sk-text-repr-fallback\"><pre>RandomizedSearchCV(cv=KFold(n_splits=10, random_state=None, shuffle=True),\n",
       "                   estimator=SVC(), n_iter=100, n_jobs=2,\n",
       "                   param_distributions={&#x27;C&#x27;: [0.1, 0.2, 0.30000000000000004,\n",
       "                                              0.4, 0.5, 0.6, 0.7000000000000001,\n",
       "                                              0.8, 0.9, 1.0],\n",
       "                                        &#x27;coef0&#x27;: [0.1, 0.35, 0.6,\n",
       "                                                  0.8499999999999999,\n",
       "                                                  1.0999999999999999],\n",
       "                                        &#x27;decision_function_shape&#x27;: [&#x27;ovo&#x27;,\n",
       "                                                                    &#x27;ovr&#x27;],\n",
       "                                        &#x27;degree&#x27;: [2, 4, 6, 8, 10],\n",
       "                                        &#x27;gamma&#x27;: [&#x27;auto&#x27;, &#x27;scale&#x27;],\n",
       "                                        &#x27;kernel&#x27;: [&#x27;linear&#x27;, &#x27;poly&#x27;, &#x27;rbf&#x27;,\n",
       "                                                   &#x27;sigmoid&#x27;],\n",
       "                                        &#x27;max_iter&#x27;: [75000, 80000, 85000, 90000,\n",
       "                                                     95000, 100000, 105000,\n",
       "                                                     110000, 115000, 120000,\n",
       "                                                     125000],\n",
       "                                        &#x27;shrinking&#x27;: [True, False],\n",
       "                                        &#x27;tol&#x27;: [0.001, 0.0001]},\n",
       "                   scoring=&#x27;recall&#x27;, verbose=4)</pre><b>In a Jupyter environment, please rerun this cell to show the HTML representation or trust the notebook. <br />On GitHub, the HTML representation is unable to render, please try loading this page with nbviewer.org.</b></div><div class=\"sk-container\" hidden><div class=\"sk-item sk-dashed-wrapped\"><div class=\"sk-label-container\"><div class=\"sk-label sk-toggleable\"><input class=\"sk-toggleable__control sk-hidden--visually\" id=\"sk-estimator-id-1\" type=\"checkbox\" ><label for=\"sk-estimator-id-1\" class=\"sk-toggleable__label sk-toggleable__label-arrow\">RandomizedSearchCV</label><div class=\"sk-toggleable__content\"><pre>RandomizedSearchCV(cv=KFold(n_splits=10, random_state=None, shuffle=True),\n",
       "                   estimator=SVC(), n_iter=100, n_jobs=2,\n",
       "                   param_distributions={&#x27;C&#x27;: [0.1, 0.2, 0.30000000000000004,\n",
       "                                              0.4, 0.5, 0.6, 0.7000000000000001,\n",
       "                                              0.8, 0.9, 1.0],\n",
       "                                        &#x27;coef0&#x27;: [0.1, 0.35, 0.6,\n",
       "                                                  0.8499999999999999,\n",
       "                                                  1.0999999999999999],\n",
       "                                        &#x27;decision_function_shape&#x27;: [&#x27;ovo&#x27;,\n",
       "                                                                    &#x27;ovr&#x27;],\n",
       "                                        &#x27;degree&#x27;: [2, 4, 6, 8, 10],\n",
       "                                        &#x27;gamma&#x27;: [&#x27;auto&#x27;, &#x27;scale&#x27;],\n",
       "                                        &#x27;kernel&#x27;: [&#x27;linear&#x27;, &#x27;poly&#x27;, &#x27;rbf&#x27;,\n",
       "                                                   &#x27;sigmoid&#x27;],\n",
       "                                        &#x27;max_iter&#x27;: [75000, 80000, 85000, 90000,\n",
       "                                                     95000, 100000, 105000,\n",
       "                                                     110000, 115000, 120000,\n",
       "                                                     125000],\n",
       "                                        &#x27;shrinking&#x27;: [True, False],\n",
       "                                        &#x27;tol&#x27;: [0.001, 0.0001]},\n",
       "                   scoring=&#x27;recall&#x27;, verbose=4)</pre></div></div></div><div class=\"sk-parallel\"><div class=\"sk-parallel-item\"><div class=\"sk-item\"><div class=\"sk-label-container\"><div class=\"sk-label sk-toggleable\"><input class=\"sk-toggleable__control sk-hidden--visually\" id=\"sk-estimator-id-2\" type=\"checkbox\" ><label for=\"sk-estimator-id-2\" class=\"sk-toggleable__label sk-toggleable__label-arrow\">estimator: SVC</label><div class=\"sk-toggleable__content\"><pre>SVC()</pre></div></div></div><div class=\"sk-serial\"><div class=\"sk-item\"><div class=\"sk-estimator sk-toggleable\"><input class=\"sk-toggleable__control sk-hidden--visually\" id=\"sk-estimator-id-3\" type=\"checkbox\" ><label for=\"sk-estimator-id-3\" class=\"sk-toggleable__label sk-toggleable__label-arrow\">SVC</label><div class=\"sk-toggleable__content\"><pre>SVC()</pre></div></div></div></div></div></div></div></div></div></div>"
      ],
      "text/plain": [
       "RandomizedSearchCV(cv=KFold(n_splits=10, random_state=None, shuffle=True),\n",
       "                   estimator=SVC(), n_iter=100, n_jobs=2,\n",
       "                   param_distributions={'C': [0.1, 0.2, 0.30000000000000004,\n",
       "                                              0.4, 0.5, 0.6, 0.7000000000000001,\n",
       "                                              0.8, 0.9, 1.0],\n",
       "                                        'coef0': [0.1, 0.35, 0.6,\n",
       "                                                  0.8499999999999999,\n",
       "                                                  1.0999999999999999],\n",
       "                                        'decision_function_shape': ['ovo',\n",
       "                                                                    'ovr'],\n",
       "                                        'degree': [2, 4, 6, 8, 10],\n",
       "                                        'gamma': ['auto', 'scale'],\n",
       "                                        'kernel': ['linear', 'poly', 'rbf',\n",
       "                                                   'sigmoid'],\n",
       "                                        'max_iter': [75000, 80000, 85000, 90000,\n",
       "                                                     95000, 100000, 105000,\n",
       "                                                     110000, 115000, 120000,\n",
       "                                                     125000],\n",
       "                                        'shrinking': [True, False],\n",
       "                                        'tol': [0.001, 0.0001]},\n",
       "                   scoring='recall', verbose=4)"
      ]
     },
     "execution_count": 9,
     "metadata": {},
     "output_type": "execute_result"
    }
   ],
   "source": [
    "svm = SVC()\n",
    "\n",
    "svmTries = RandomizedSearchCV(estimator = svm, param_distributions = randParams, scoring = scoring, n_iter = 100,\n",
    "                              cv = model_selection.KFold(n_splits=10, shuffle=True), verbose=4, n_jobs = 2)\n",
    "\n",
    "svmTries.fit(pp_data_inputs, pp_data_outputs)"
   ]
  },
  {
   "cell_type": "code",
   "execution_count": 53,
   "metadata": {},
   "outputs": [
    {
     "name": "stdout",
     "output_type": "stream",
     "text": [
      "{'tol': 0.0001, 'shrinking': True, 'max_iter': 100000, 'kernel': 'linear', 'gamma': 'auto', 'degree': 6, 'decision_function_shape': 'ovo', 'coef0': 0.6, 'C': 0.9}\n",
      "5-Fold Best recall = 0.9293287852358837\n"
     ]
    }
   ],
   "source": [
    "print(svmTries.best_params_)\n",
    "print(f'5-Fold Best recall = {svmTries.best_score_}' )"
   ]
  },
  {
   "cell_type": "code",
   "execution_count": 50,
   "metadata": {},
   "outputs": [
    {
     "name": "stdout",
     "output_type": "stream",
     "text": [
      "Accuracy: 99.13589945011783\n",
      "Precision: 97.7859778597786\n",
      "Recall: 93.3920704845815\n",
      "F1-Score: 95.53853086976115\n",
      "[[10298    24]\n",
      " [   75  1060]]\n"
     ]
    },
    {
     "data": {
      "image/png": "[encoded data removed]",
      "text/plain": [
       "<Figure size 432x288 with 2 Axes>"
      ]
     },
     "metadata": {
      "needs_background": "light"
     },
     "output_type": "display_data"
    }
   ],
   "source": [
    "#final_svm = svmTries.best_estimator_\n",
    "\n",
    "final_svm = SVC(tol=0.0001,\n",
    "                shrinking=True,\n",
    "                max_iter=100000,\n",
    "                kernel='rbf',\n",
    "                gamma='auto',\n",
    "                degree=6,\n",
    "                decision_function_shape='ovr',\n",
    "                coef0=0.6,\n",
    "                C=0.9)\n",
    "\n",
    "inputsTrain, inputsTest, outputsTrain, outputsTest = train_test_split(pp_data_inputs, \n",
    "                                                                      pp_data_outputs,\n",
    "                                                                      test_size = 0.2)\n",
    "\n",
    "scaler = MinMaxScaler()\n",
    "scaler.fit(pp_data_inputs)\n",
    "\n",
    "inputsTrain = scaler.transform(inputsTrain)\n",
    "inputsTest = scaler.transform(inputsTest)\n",
    "\n",
    "final_svm.fit(inputsTrain, outputsTrain.values.ravel())\n",
    "\n",
    "# Valores preditos pela árvore treinada\n",
    "predicted_apply_brakes = final_svm.predict(inputsTest)\n",
    "\n",
    "# Métricas de performance\n",
    "finalAccuracy = accuracy_score(outputsTest, predicted_apply_brakes)\n",
    "finalPrecision = precision_score(outputsTest, predicted_apply_brakes)\n",
    "finalRecall = recall_score(outputsTest, predicted_apply_brakes)\n",
    "finalF1 = f1_score(outputsTest, predicted_apply_brakes)\n",
    "finalConfusionMatrix = confusion_matrix(outputsTest, predicted_apply_brakes)\n",
    "\n",
    "# Imprime resultados finais\n",
    "print('Accuracy:', finalAccuracy*100)\n",
    "print('Precision:', finalPrecision*100)\n",
    "print('Recall:', finalRecall*100)\n",
    "print('F1-Score:', finalF1*100)\n",
    "print(finalConfusionMatrix)\n",
    "ConfusionMatrixDisplay(finalConfusionMatrix).plot()\n",
    "plt.show()"
   ]
  },
  {
   "cell_type": "code",
   "execution_count": 51,
   "metadata": {},
   "outputs": [
    {
     "name": "stdout",
     "output_type": "stream",
     "text": [
      "Accuracy: 99.15510168455965\n",
      "Precision: 97.31182795698925\n",
      "Recall: 94.20541290770298\n",
      "F1-Score: 95.73342736248237\n",
      "[[51371   150]\n",
      " [  334  5430]]\n"
     ]
    },
    {
     "data": {
      "image/png": "[encoded data removed]",
      "text/plain": [
       "<Figure size 432x288 with 2 Axes>"
      ]
     },
     "metadata": {
      "needs_background": "light"
     },
     "output_type": "display_data"
    }
   ],
   "source": [
    "pp_data_inputs_test, pp_data_outputs_test = pre_processing(f\"DatasetT2.csv\")\n",
    "\n",
    "pp_data_inputs_test = scaler.transform(pp_data_inputs_test)\n",
    "\n",
    "# Valores preditos pela árvore treinada\n",
    "predicted_apply_brakes = final_svm.predict(pp_data_inputs_test)\n",
    "\n",
    "# Métricas de performance\n",
    "finalAccuracy = accuracy_score(pp_data_outputs_test, predicted_apply_brakes)\n",
    "finalPrecision = precision_score(pp_data_outputs_test, predicted_apply_brakes)\n",
    "finalRecall = recall_score(pp_data_outputs_test, predicted_apply_brakes)\n",
    "finalF1 = f1_score(pp_data_outputs_test, predicted_apply_brakes)\n",
    "finalConfusionMatrix = confusion_matrix(pp_data_outputs_test, predicted_apply_brakes)\n",
    "finalClassificationReport = classification_report(pp_data_outputs_test, predicted_apply_brakes)\n",
    "\n",
    "# Imprime resultados finais\n",
    "print('Accuracy:', finalAccuracy*100)\n",
    "print('Precision:', finalPrecision*100)\n",
    "print('Recall:', finalRecall*100)\n",
    "print('F1-Score:', finalF1*100)\n",
    "print(finalConfusionMatrix)\n",
    "ConfusionMatrixDisplay(finalConfusionMatrix).plot()\n",
    "plt.show()"
   ]
  }
 ],
 "metadata": {
  "kernelspec": {
   "display_name": "Python 3.9.13 64-bit",
   "language": "python",
   "name": "python3"
  },
  "language_info": {
   "codemirror_mode": {
    "name": "ipython",
    "version": 3
   },
   "file_extension": ".py",
   "mimetype": "text/x-python",
   "name": "python",
   "nbconvert_exporter": "python",
   "pygments_lexer": "ipython3",
   "version": "3.9.13"
  },
  "orig_nbformat": 4,
  "vscode": {
   "interpreter": {
    "hash": "ed3204535e0d33657ce63df17c70ff982e319d78fbe8f1243c6c262c26265b53"
   }
  }
 },
 "nbformat": 4,
 "nbformat_minor": 2
}
