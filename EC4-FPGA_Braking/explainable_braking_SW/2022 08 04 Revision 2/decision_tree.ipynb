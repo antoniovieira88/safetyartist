{
 "cells": [
  {
   "cell_type": "code",
   "execution_count": 6,
   "metadata": {},
   "outputs": [],
   "source": [
    "###########################################################################################################################\n",
    "#\n",
    "# Antonio Vieira da Silva Neto - NUSP  5690149 - Doutorando em Ciências\n",
    "# Henrique Lefundes da Silva   - NUSP 11808280 - Pesquisador de Iniciação Científica e Graduando em Engenharia Elétrica\n",
    "#\n",
    "# Escola Politécnica da Universidade de São Paulo\n",
    "# Programa de Pós-Graduação em Engenharia Elétrica\n",
    "# Departamento de Engenharia de Computação e Sistemas Digitais\n",
    "# Área de Concentração: Confiabilidade e Segurança\n",
    "#\n",
    "# Tese de Doutorado: Safety ArtISt: Um Método para a Garantia de Segurança Crítica de Sistemas com Inteligência Artificial\n",
    "#\n",
    "# Estudo de Caso 4 - Sistema de Controle de Frenagem de Veículos\n",
    "#\n",
    "# Arquivo para geração do modelo base de IA\n",
    "#\n",
    "###########################################################################################################################\n",
    "\n",
    "###########################################################################################################################\n",
    "#\n",
    "# Tabela de Controle de Versões do Código\n",
    "#\n",
    "#--------|-------------------|------------------------------|--------------------------------------------------------------\n",
    "# Versão | Data (dd/mm/aaaa) | Autor                        | Descrição da Versão\n",
    "#--------|-------------------|------------------------------|--------------------------------------------------------------\n",
    "#   01   |    28/07/2022     | Henrique Lefundes da Silva   | Versão inicial.\n",
    "#--------|-------------------|------------------------------|--------------------------------------------------------------\n",
    "###########################################################################################################################\n",
    "\n",
    "# Importação de Bibliotecas\n",
    "import numpy as np\n",
    "import pandas as pd\n",
    "import matplotlib.pyplot as plt\n",
    "from sklearn.tree import DecisionTreeClassifier\n",
    "from sklearn.tree import plot_tree\n",
    "from sklearn.tree import export_graphviz\n",
    "from sklearn.model_selection import train_test_split\n",
    "from sklearn.model_selection import StratifiedKFold\n",
    "from sklearn.model_selection import cross_val_score\n",
    "from sklearn.model_selection import RandomizedSearchCV\n",
    "from sklearn.model_selection import GridSearchCV\n",
    "from sklearn.model_selection import KFold\n",
    "from sklearn.metrics import ConfusionMatrixDisplay\n",
    "from sklearn.metrics import make_scorer, confusion_matrix, accuracy_score, precision_score, recall_score, f1_score, classification_report \n",
    "from stratify import train_test_split_stratified\n",
    "from stratify import StratifyData"
   ]
  },
  {
   "cell_type": "code",
   "execution_count": 7,
   "metadata": {},
   "outputs": [],
   "source": [
    "# Pré-processamento dos dados (pre_processing)\n",
    "\n",
    "def pre_processing(address):\n",
    "    dataColumns = [\"Distância Ruidosa\", \"Velocidade Ruidosa\", \"Capacidade de Frenagem Ruidosa\",\n",
    "                    \"Decisão\"]\n",
    "    \n",
    "    dataset = pd.read_csv(address, header = None, names = dataColumns)\n",
    "\n",
    "    return dataset"
   ]
  },
  {
   "cell_type": "code",
   "execution_count": 8,
   "metadata": {},
   "outputs": [],
   "source": [
    "# Função criada para automatizar o processo de testes para diferentes datasets, \n",
    "# caso queira testar a árvore no dataset de testes 1, basta chamar automatic_test(1)\n",
    "# Nome padrão dos datasets de teste: DatasetTX, onde X corresponde a numeração do dataset\n",
    "\n",
    "def automatic_test(dataset_test_number): \n",
    "    # Lê base de dados \n",
    "    pp_dataset_test = pre_processing(f\"./Dataset/DatasetT{dataset_test_number}.csv\")\n",
    "    \n",
    "    # Define entradas e saída\n",
    "    pp_data_inputs_test = pp_dataset_test.drop(columns = ['Decisão'])\n",
    "    pp_data_outputs_test = pp_dataset_test[['Decisão']]\n",
    "\n",
    "    # Valores preditos pela árvore treinada\n",
    "    predicted_apply_brakes = final_decision_tree.predict(pp_data_inputs_test)\n",
    "\n",
    "    # Métricas de performance\n",
    "    finalAccuracy = accuracy_score(pp_data_outputs_test, predicted_apply_brakes)\n",
    "    finalPrecision = precision_score(pp_data_outputs_test, predicted_apply_brakes)\n",
    "    finalRecall = recall_score(pp_data_outputs_test, predicted_apply_brakes)\n",
    "    finalF1 = f1_score(pp_data_outputs_test, predicted_apply_brakes)\n",
    "    finalConfusionMatrix = confusion_matrix(pp_data_outputs_test, predicted_apply_brakes)\n",
    "    finalClassificationReport = classification_report(pp_data_outputs_test, predicted_apply_brakes)\n",
    "\n",
    "    # Imprime resultados finais\n",
    "    print(f'******** Resultados DatasetT{dataset_test_number} ********')\n",
    "    print('Accuracy:', finalAccuracy*100)\n",
    "    print('Precision:', finalPrecision*100)\n",
    "    print('Recall:', finalRecall*100)\n",
    "    print('F1-Score:', finalF1*100)\n",
    "    print(finalConfusionMatrix)\n",
    "    ConfusionMatrixDisplay(finalConfusionMatrix).plot()\n",
    "    plt.show()"
   ]
  },
  {
   "cell_type": "code",
   "execution_count": 9,
   "metadata": {},
   "outputs": [
    {
     "name": "stdout",
     "output_type": "stream",
     "text": [
      "       Distância Ruidosa  Velocidade Ruidosa  Capacidade de Frenagem Ruidosa  \\\n",
      "0               0.000000            0.000000                          1.3950   \n",
      "1               0.000000            0.000000                          1.1625   \n",
      "2               1.579846            0.000000                          0.9300   \n",
      "3               0.282185            0.000000                          0.7800   \n",
      "4               0.394876            0.000000                          0.6500   \n",
      "...                  ...                 ...                             ...   \n",
      "57280        2000.433820           26.977928                          1.3950   \n",
      "57281        1999.988138           28.886308                          1.1625   \n",
      "57282        1998.246886           28.409583                          0.9300   \n",
      "57283        2002.044078           27.358991                          0.7800   \n",
      "57284        1998.055064           27.991858                          0.6500   \n",
      "\n",
      "       Decisão  \n",
      "0          1.0  \n",
      "1          1.0  \n",
      "2          1.0  \n",
      "3          1.0  \n",
      "4          1.0  \n",
      "...        ...  \n",
      "57280      0.0  \n",
      "57281      0.0  \n",
      "57282      0.0  \n",
      "57283      0.0  \n",
      "57284      0.0  \n",
      "\n",
      "[57285 rows x 4 columns]\n"
     ]
    }
   ],
   "source": [
    "# Realiza a leitura do arquivo CSV\n",
    "# O arquivo se encontra numa pasta dentro do diretório deste programa:\n",
    "# ./Árvore de Decisão/Dataset/Dataset.csv\n",
    "pp_dataset = pre_processing(\"./Dataset/DatasetT&V.csv\")\n",
    "print(pp_dataset)"
   ]
  },
  {
   "cell_type": "code",
   "execution_count": 10,
   "metadata": {},
   "outputs": [
    {
     "name": "stdout",
     "output_type": "stream",
     "text": [
      "       Distância Ruidosa  Velocidade Ruidosa  Capacidade de Frenagem Ruidosa\n",
      "0               0.000000            0.000000                          1.3950\n",
      "1               0.000000            0.000000                          1.1625\n",
      "2               1.579846            0.000000                          0.9300\n",
      "3               0.282185            0.000000                          0.7800\n",
      "4               0.394876            0.000000                          0.6500\n",
      "...                  ...                 ...                             ...\n",
      "57280        2000.433820           26.977928                          1.3950\n",
      "57281        1999.988138           28.886308                          1.1625\n",
      "57282        1998.246886           28.409583                          0.9300\n",
      "57283        2002.044078           27.358991                          0.7800\n",
      "57284        1998.055064           27.991858                          0.6500\n",
      "\n",
      "[57285 rows x 3 columns]\n",
      "       Decisão\n",
      "0          1.0\n",
      "1          1.0\n",
      "2          1.0\n",
      "3          1.0\n",
      "4          1.0\n",
      "...        ...\n",
      "57280      0.0\n",
      "57281      0.0\n",
      "57282      0.0\n",
      "57283      0.0\n",
      "57284      0.0\n",
      "\n",
      "[57285 rows x 1 columns]\n"
     ]
    }
   ],
   "source": [
    "#Define as entradas e as saídas do dataset\n",
    "pp_data_inputs = pp_dataset.drop(columns = ['Decisão'])\n",
    "print(pp_data_inputs)\n",
    "\n",
    "pp_data_outputs = pp_dataset[['Decisão']]\n",
    "print(pp_data_outputs)\n"
   ]
  },
  {
   "cell_type": "code",
   "execution_count": 11,
   "metadata": {},
   "outputs": [
    {
     "name": "stdout",
     "output_type": "stream",
     "text": [
      "Número de combinações possíveis: 1520640\n",
      "{'criterion': ['entropy', 'gini'], 'splitter': ['best', 'random'], 'max_depth': [1, 3, 5, 7, 9, 11, 13, 15, 17, 19, 21], 'min_samples_split': [2, 5, 8, 11, 14, 17], 'min_samples_leaf': [1, 4, 7, 10, 13, 16], 'min_weight_fraction_leaf': [0.0, 0.125, 0.25, 0.375, 0.5], 'max_leaf_nodes': [200, 210, 220, 230, 240, 250, 260, 270, 280, 290, 300, 310, 320, 330, 340, 350, 360, 370, 380, 390, 400, 410, 420, 430, 440, 450, 460, 470, 480, 490, 500, None], 'max_features': [1, 2, 3, 'log2', 'sqrt', None]}\n",
      "Tempo estimado de processamento: 178.6 segundos\n"
     ]
    }
   ],
   "source": [
    "random_state = 1\n",
    "\n",
    "# Definição dos hiperparâmetros\n",
    "\n",
    "criterion = ['entropy', 'gini']\n",
    "\n",
    "splitter = ['best', 'random']\n",
    "\n",
    "max_depth = [int(x) for x in np.arange(1, 22, step = 2)] # max_depth já limitado\n",
    "\n",
    "min_samples_split = [int(x) for x in np.arange(2, 18, step = 3)]\n",
    "\n",
    "min_samples_leaf = [int(x) for x in np.arange(1, 18, step = 3)]\n",
    "\n",
    "min_weight_fraction_leaf = [float(x) for x in np.linspace(0,0.5,5)] # não houve 1 RandomSearch que fosse diferente de 0\n",
    "\n",
    "max_leaf_nodes = [int(x) for x in np.arange(200, 510, step = 10)]\n",
    "max_leaf_nodes.append(None)\n",
    "\n",
    "max_features = [int(x) for x in np.arange(1, 4, step = 1)] \n",
    "max_features.append('log2')\n",
    "max_features.append('sqrt')\n",
    "max_features.append(None)\n",
    "\n",
    "combinations = len(criterion)*len(splitter)*len(max_depth)*len(min_samples_leaf)*len(min_samples_split)*len(min_weight_fraction_leaf)*len(max_leaf_nodes)*len(max_features)\n",
    "\n",
    "print('Número de combinações possíveis:', combinations)\n",
    "\n",
    "hyperparameters_settings = {'criterion'                : criterion,\n",
    "                            'splitter'                 : splitter,\n",
    "                            'max_depth'                : max_depth,\n",
    "                            'min_samples_split'        : min_samples_split,\n",
    "                            'min_samples_leaf'         : min_samples_leaf,\n",
    "                            'min_weight_fraction_leaf' : min_weight_fraction_leaf,\n",
    "                            'max_leaf_nodes'           : max_leaf_nodes,\n",
    "                            'max_features'             : max_features\n",
    "                           }\n",
    "\n",
    "print(hyperparameters_settings)\n",
    "\n",
    "# Metrica de performance\n",
    "scoring = 'recall'\n",
    "\n",
    "# Número de partições\n",
    "k_fold = 10 \n",
    "n_iter = 2500\n",
    "\n",
    "print('Tempo estimado de processamento:', round((n_iter*10)/140,1), 'segundos')\n"
   ]
  },
  {
   "cell_type": "code",
   "execution_count": 70,
   "metadata": {},
   "outputs": [
    {
     "name": "stdout",
     "output_type": "stream",
     "text": [
      "Fitting 10 folds for each of 2500 candidates, totalling 25000 fits\n"
     ]
    },
    {
     "data": {
      "text/plain": [
       "RandomizedSearchCV(cv=KFold(n_splits=10, random_state=None, shuffle=True),\n",
       "                   estimator=DecisionTreeClassifier(), n_iter=2500, n_jobs=-1,\n",
       "                   param_distributions={'criterion': ['entropy', 'gini'],\n",
       "                                        'max_depth': [1, 3, 5, 7, 9, 11, 13, 15,\n",
       "                                                      17, 19, 21],\n",
       "                                        'max_features': [1, 2, 3, 'log2',\n",
       "                                                         'sqrt', None],\n",
       "                                        'max_leaf_nodes': [200, 210, 220, 230,\n",
       "                                                           240, 250, 260, 270,\n",
       "                                                           280, 290, 300, 310,\n",
       "                                                           320, 330, 340, 350,\n",
       "                                                           360, 370, 380, 390,\n",
       "                                                           400, 410, 420, 430,\n",
       "                                                           440, 450, 460, 470,\n",
       "                                                           480, 490, ...],\n",
       "                                        'min_samples_leaf': [1, 4, 7, 10, 13,\n",
       "                                                             16],\n",
       "                                        'min_samples_split': [2, 5, 8, 11, 14,\n",
       "                                                              17],\n",
       "                                        'min_weight_fraction_leaf': [0.0, 0.125,\n",
       "                                                                     0.25,\n",
       "                                                                     0.375,\n",
       "                                                                     0.5],\n",
       "                                        'splitter': ['best', 'random']},\n",
       "                   scoring='recall', verbose=3)"
      ]
     },
     "execution_count": 70,
     "metadata": {},
     "output_type": "execute_result"
    }
   ],
   "source": [
    "# Criação da árvore de decisão\n",
    "starting_decision_tree = DecisionTreeClassifier()\n",
    "\n",
    "# Optimização dos hiperparâmetros com RandomSearch\n",
    "dtTries = RandomizedSearchCV(estimator = starting_decision_tree, param_distributions = hyperparameters_settings, scoring = scoring,\n",
    "                            cv = KFold(n_splits = k_fold, shuffle = True), verbose = 3, n_jobs = -1, n_iter = n_iter)\n",
    "\n",
    "# Teste com os hiperparâmetros encontrados\n",
    "dtTries.fit(pp_data_inputs, pp_data_outputs)\n"
   ]
  },
  {
   "cell_type": "code",
   "execution_count": 73,
   "metadata": {},
   "outputs": [
    {
     "name": "stdout",
     "output_type": "stream",
     "text": [
      "{'splitter': 'best', 'min_weight_fraction_leaf': 0.0, 'min_samples_split': 11, 'min_samples_leaf': 1, 'max_leaf_nodes': 250, 'max_features': 2, 'max_depth': 9, 'criterion': 'gini'}\n",
      "10 - Fold Best recall-score:  96.1438015098809\n"
     ]
    }
   ],
   "source": [
    "# Imprime valores ótimos dos hiperparâmetros\n",
    "print(dtTries.best_params_)\n",
    "print(k_fold,'- Fold Best recall-score: ', dtTries.best_score_*100)"
   ]
  },
  {
   "cell_type": "code",
   "execution_count": 74,
   "metadata": {},
   "outputs": [
    {
     "name": "stdout",
     "output_type": "stream",
     "text": [
      "{'criterion': ['gini'], 'splitter': ['best'], 'max_depth': [7, 8, 9, 10, 11], 'min_samples_split': [9, 10, 11, 12, 13], 'min_samples_leaf': [1, 2, 3, 4], 'min_weight_fraction_leaf': [0], 'max_leaf_nodes': [225, 230, 235, 240, 245, 250, 255, 260, 265, 270], 'max_features': [2]}\n"
     ]
    }
   ],
   "source": [
    "# Segunda iteração\n",
    "\n",
    "splitter = ['best']\n",
    "\n",
    "min_weight_fraction_leaf = [0]\n",
    "\n",
    "min_samples_split = [int(x) for x in np.arange(9, 14, step = 1)]\n",
    "\n",
    "min_samples_leaf = [int(x) for x in np.arange(1, 5, step = 1)]\n",
    "\n",
    "max_leaf_nodes = [int(x) for x in np.arange(225, 275, step = 5)]\n",
    "\n",
    "max_features = [2] \n",
    "\n",
    "max_depth = [int(x) for x in np.arange(7, 12, step = 1)]\n",
    "\n",
    "criterion = ['gini']\n",
    "\n",
    "hyperparameters_settings = {'criterion'                : criterion,\n",
    "                            'splitter'                 : splitter,\n",
    "                            'max_depth'                : max_depth,\n",
    "                            'min_samples_split'        : min_samples_split,\n",
    "                            'min_samples_leaf'         : min_samples_leaf,\n",
    "                            'min_weight_fraction_leaf' : min_weight_fraction_leaf,\n",
    "                            'max_leaf_nodes'           : max_leaf_nodes,\n",
    "                            'max_features'             : max_features\n",
    "                           }\n",
    "\n",
    "print(hyperparameters_settings)\n",
    "\n",
    "# Metrica de performance\n",
    "scoring = 'recall'\n",
    "\n",
    "# Número de partições\n",
    "k_fold = 10 "
   ]
  },
  {
   "cell_type": "code",
   "execution_count": 75,
   "metadata": {},
   "outputs": [
    {
     "name": "stdout",
     "output_type": "stream",
     "text": [
      "Fitting 10 folds for each of 1000 candidates, totalling 10000 fits\n"
     ]
    },
    {
     "data": {
      "text/plain": [
       "GridSearchCV(cv=KFold(n_splits=10, random_state=None, shuffle=True),\n",
       "             estimator=DecisionTreeClassifier(), n_jobs=-1,\n",
       "             param_grid={'criterion': ['gini'], 'max_depth': [7, 8, 9, 10, 11],\n",
       "                         'max_features': [2],\n",
       "                         'max_leaf_nodes': [225, 230, 235, 240, 245, 250, 255,\n",
       "                                            260, 265, 270],\n",
       "                         'min_samples_leaf': [1, 2, 3, 4],\n",
       "                         'min_samples_split': [9, 10, 11, 12, 13],\n",
       "                         'min_weight_fraction_leaf': [0],\n",
       "                         'splitter': ['best']},\n",
       "             scoring='recall', verbose=3)"
      ]
     },
     "execution_count": 75,
     "metadata": {},
     "output_type": "execute_result"
    }
   ],
   "source": [
    "# Optimização dos hiperparâmetros com GridSearch\n",
    "dtTries = GridSearchCV(estimator = starting_decision_tree, param_grid = hyperparameters_settings, scoring = scoring,\n",
    "                            cv = KFold(n_splits = k_fold, shuffle = True), verbose = 3, n_jobs = -1)\n",
    "\n",
    "# Teste com os hiperparâmetros encontrados\n",
    "dtTries.fit(pp_data_inputs, pp_data_outputs)"
   ]
  },
  {
   "cell_type": "code",
   "execution_count": 76,
   "metadata": {},
   "outputs": [
    {
     "name": "stdout",
     "output_type": "stream",
     "text": [
      "{'criterion': 'gini', 'max_depth': 11, 'max_features': 2, 'max_leaf_nodes': 245, 'min_samples_leaf': 2, 'min_samples_split': 9, 'min_weight_fraction_leaf': 0, 'splitter': 'best'}\n",
      "10 - Fold Best recall-score:  96.08235987664132\n"
     ]
    }
   ],
   "source": [
    "# Imprime valores ótimos dos hiperparâmetros\n",
    "print(dtTries.best_params_)\n",
    "print(k_fold,'- Fold Best recall-score: ', dtTries.best_score_*100)"
   ]
  },
  {
   "cell_type": "code",
   "execution_count": 12,
   "metadata": {},
   "outputs": [],
   "source": [
    "# Árvore de decisão final\n",
    "final_decision_tree = DecisionTreeClassifier(criterion = 'gini', \n",
    "                                            max_depth = 9, \n",
    "                                            max_features = None, \n",
    "                                            max_leaf_nodes = 550, \n",
    "                                            min_samples_leaf = 3, \n",
    "                                            min_samples_split = 2,\n",
    "                                            min_weight_fraction_leaf = 0, \n",
    "                                            splitter = 'best')\n",
    "\n",
    "# Holdout test\n",
    "inputsTrain, inputsTest, outputsTrain, outputsTest = train_test_split(pp_data_inputs, \n",
    "                                                                      pp_data_outputs,\n",
    "                                                                      test_size = 0.2)\n",
    "\n",
    "final_decision_tree.fit(inputsTrain, outputsTrain)\n",
    "\n",
    "# Valores preditos pela árvore treinada\n",
    "predicted_apply_brakes = final_decision_tree.predict(inputsTest)\n",
    "\n",
    "# Métricas de performance\n",
    "finalAccuracy = accuracy_score(outputsTest, predicted_apply_brakes)\n",
    "finalPrecision = precision_score(outputsTest, predicted_apply_brakes)\n",
    "finalRecall = recall_score(outputsTest, predicted_apply_brakes)\n",
    "finalF1 = f1_score(outputsTest, predicted_apply_brakes)\n",
    "finalConfusionMatrix = confusion_matrix(outputsTest, predicted_apply_brakes)\n",
    "finalClassificationReport = classification_report(outputsTest, predicted_apply_brakes)\n",
    "\n",
    "plt.rcParams['figure.figsize'] = [2, 2]\n",
    "plt.rcParams['figure.dpi'] = 100\n",
    "# Plot da árvore de decisão treinada, comentado para diminuir tempo de execução\n",
    "# plot_tree(final_decision_tree)\n",
    "# plt.show()"
   ]
  },
  {
   "cell_type": "code",
   "execution_count": 13,
   "metadata": {},
   "outputs": [
    {
     "name": "stdout",
     "output_type": "stream",
     "text": [
      "Accuracy: 99.33665008291874\n",
      "Precision: 96.38009049773756\n",
      "Recall: 96.73024523160763\n",
      "F1-Score: 96.55485040797824\n",
      "[[10316    40]\n",
      " [   36  1065]]\n"
     ]
    },
    {
     "data": {
      "image/png": "[encoded data removed]",
      "text/plain": [
       "<Figure size 432x288 with 2 Axes>"
      ]
     },
     "metadata": {
      "needs_background": "light"
     },
     "output_type": "display_data"
    }
   ],
   "source": [
    "# Imprime resultados finais\n",
    "print('Accuracy:', finalAccuracy*100)\n",
    "print('Precision:', finalPrecision*100)\n",
    "print('Recall:', finalRecall*100)\n",
    "print('F1-Score:', finalF1*100)\n",
    "print(finalConfusionMatrix)\n",
    "ConfusionMatrixDisplay(finalConfusionMatrix).plot()\n",
    "plt.show()"
   ]
  },
  {
   "cell_type": "code",
   "execution_count": 14,
   "metadata": {},
   "outputs": [
    {
     "name": "stdout",
     "output_type": "stream",
     "text": [
      "******** Resultados DatasetT1 ********\n",
      "Accuracy: 99.3226848215065\n",
      "Precision: 96.74782608695652\n",
      "Recall: 96.51283830673144\n",
      "F1-Score: 96.63018933472294\n",
      "[[51334   187]\n",
      " [  201  5563]]\n"
     ]
    },
    {
     "data": {
      "image/png": "[encoded data removed]",
      "text/plain": [
       "<Figure size 432x288 with 2 Axes>"
      ]
     },
     "metadata": {
      "needs_background": "light"
     },
     "output_type": "display_data"
    },
    {
     "name": "stdout",
     "output_type": "stream",
     "text": [
      "******** Resultados DatasetT2 ********\n",
      "Accuracy: 99.31395653312386\n",
      "Precision: 96.38970461219554\n",
      "Recall: 96.80777238029147\n",
      "F1-Score: 96.59828615943911\n",
      "[[51312   209]\n",
      " [  184  5580]]\n"
     ]
    },
    {
     "data": {
      "image/png": "[encoded data removed]",
      "text/plain": [
       "<Figure size 432x288 with 2 Axes>"
      ]
     },
     "metadata": {
      "needs_background": "light"
     },
     "output_type": "display_data"
    },
    {
     "name": "stdout",
     "output_type": "stream",
     "text": [
      "******** Resultados DatasetT3 ********\n",
      "Accuracy: 99.35061534433098\n",
      "Precision: 96.83808200138986\n",
      "Recall: 96.70367800138793\n",
      "F1-Score: 96.77083333333334\n",
      "[[51339   182]\n",
      " [  190  5574]]\n"
     ]
    },
    {
     "data": {
      "image/png": "[encoded data removed]",
      "text/plain": [
       "<Figure size 432x288 with 2 Axes>"
      ]
     },
     "metadata": {
      "needs_background": "light"
     },
     "output_type": "display_data"
    }
   ],
   "source": [
    "# Testes para DatasetT1, DatasetT2 e DatasetT3\n",
    "automatic_test(1)\n",
    "automatic_test(2)\n",
    "automatic_test(3)"
   ]
  },
  {
   "cell_type": "code",
   "execution_count": 15,
   "metadata": {},
   "outputs": [
    {
     "name": "stderr",
     "output_type": "stream",
     "text": [
      "c:\\Users\\R2D2\\AppData\\Local\\Programs\\Python\\Python39\\lib\\site-packages\\sklearn\\base.py:493: FutureWarning: The feature names should match those that were passed during fit. Starting version 1.2, an error will be raised.\n",
      "Feature names unseen at fit time:\n",
      "- Capacidade de Frenagem\n",
      "- Distancia\n",
      "- Velocidade\n",
      "Feature names seen at fit time, yet now missing:\n",
      "- Capacidade de Frenagem Ruidosa\n",
      "- Distância Ruidosa\n",
      "- Velocidade Ruidosa\n",
      "\n",
      "  warnings.warn(message, FutureWarning)\n"
     ]
    },
    {
     "name": "stdout",
     "output_type": "stream",
     "text": [
      "******** Resultados dataset sem ruido ********\n",
      "Accuracy: 99.44837217421664\n",
      "Precision: 97.35744089012516\n",
      "Recall: 97.15475364330327\n",
      "F1-Score: 97.25599166377215\n",
      "[[51369   152]\n",
      " [  164  5600]]\n"
     ]
    },
    {
     "data": {
      "image/png": "[encoded data removed]",
      "text/plain": [
       "<Figure size 432x288 with 2 Axes>"
      ]
     },
     "metadata": {
      "needs_background": "light"
     },
     "output_type": "display_data"
    }
   ],
   "source": [
    "# Teste para dataset sem ruído \n",
    "dataColumns = ['Distancia Ruidosa', 'Velocidade Ruidosa', 'Capacidade de Frenagem Ruidosa', 'Distancia', 'Velocidade', \n",
    "                'Capacidade de Frenagem', 'Decisao', 'Aceleracao', 'AW', 'AG', 'VH', 'VC', 'V50', 'DS', 'Decisao Ruidosa', \n",
    "                'Aceleracao Ruidosa', 'AW Ruidosa', 'AG Ruidosa', 'VH Ruidosa', 'VC Ruidosa', 'V50 Ruidosa', 'DS Ruidosa']\n",
    "    \n",
    "pp_dataset_test = pd.read_csv(\"./Dataset/DatasetT&VDebug.csv\", header = None, names = dataColumns)\n",
    "\n",
    "pp_data_inputs_test = pp_dataset_test[['Distancia', 'Velocidade', 'Capacidade de Frenagem']]\n",
    "\n",
    "pp_data_outputs_test = pp_dataset_test[['Decisao']]\n",
    "\n",
    "# Valores preditos pela árvore treinada\n",
    "predicted_apply_brakes = final_decision_tree.predict(pp_data_inputs_test)\n",
    "\n",
    "# Métricas de performance\n",
    "finalAccuracy = accuracy_score(pp_data_outputs_test, predicted_apply_brakes)\n",
    "finalPrecision = precision_score(pp_data_outputs_test, predicted_apply_brakes)\n",
    "finalRecall = recall_score(pp_data_outputs_test, predicted_apply_brakes)\n",
    "finalF1 = f1_score(pp_data_outputs_test, predicted_apply_brakes)\n",
    "finalConfusionMatrix = confusion_matrix(pp_data_outputs_test, predicted_apply_brakes)\n",
    "finalClassificationReport = classification_report(pp_data_outputs_test, predicted_apply_brakes)\n",
    "\n",
    "# Imprime resultados finais\n",
    "print(f'******** Resultados dataset sem ruido ********')\n",
    "print('Accuracy:', finalAccuracy*100)\n",
    "print('Precision:', finalPrecision*100)\n",
    "print('Recall:', finalRecall*100)\n",
    "print('F1-Score:', finalF1*100)\n",
    "print(finalConfusionMatrix)\n",
    "ConfusionMatrixDisplay(finalConfusionMatrix).plot()\n",
    "plt.show()  "
   ]
  },
  {
   "cell_type": "markdown",
   "metadata": {},
   "source": [
    "<h1>Fim dos testes com dataset normal</h1>"
   ]
  },
  {
   "cell_type": "markdown",
   "metadata": {},
   "source": [
    "<h1>Início dos testes com dataset estratificado</h1>"
   ]
  },
  {
   "cell_type": "code",
   "execution_count": 16,
   "metadata": {},
   "outputs": [
    {
     "name": "stdout",
     "output_type": "stream",
     "text": [
      "       Distância Ruidosa  Velocidade Ruidosa  Capacidade de Frenagem Ruidosa  \\\n",
      "0             161.287901           26.676714                          0.7800   \n",
      "1             219.200647           25.886505                          1.1625   \n",
      "2             240.002120           16.531255                          0.7800   \n",
      "3              10.809129            7.990000                          0.6500   \n",
      "4              30.958756           26.606893                          1.1625   \n",
      "...                  ...                 ...                             ...   \n",
      "22909        1478.319317            1.488335                          1.1625   \n",
      "22910        1898.499837           22.812874                          0.7800   \n",
      "22911        1660.858790           15.550167                          1.1625   \n",
      "22912         253.240000            4.602194                          1.1625   \n",
      "22913         647.826139            8.614582                          1.3950   \n",
      "\n",
      "       Decisão  \n",
      "0          1.0  \n",
      "1          1.0  \n",
      "2          1.0  \n",
      "3          1.0  \n",
      "4          1.0  \n",
      "...        ...  \n",
      "22909      0.0  \n",
      "22910      0.0  \n",
      "22911      0.0  \n",
      "22912      0.0  \n",
      "22913      0.0  \n",
      "\n",
      "[22914 rows x 4 columns]\n"
     ]
    }
   ],
   "source": [
    "pp_dataset = pre_processing(\"./Dataset/DatasetT&V.csv\")\n",
    "pp_dataset = StratifyData(pp_dataset, 0.4, 0.75, 1, False) #Gera outro dataset, utilizando 40% do dataset original, com 75% das saídas iguais a 0\n",
    "print(pp_dataset) # Note que shuffle = False, então temos diversos 1 no ínicio e os 0 nos fim"
   ]
  },
  {
   "cell_type": "code",
   "execution_count": 17,
   "metadata": {},
   "outputs": [
    {
     "name": "stdout",
     "output_type": "stream",
     "text": [
      "       Distância Ruidosa  Velocidade Ruidosa  Capacidade de Frenagem Ruidosa\n",
      "0             161.287901           26.676714                          0.7800\n",
      "1             219.200647           25.886505                          1.1625\n",
      "2             240.002120           16.531255                          0.7800\n",
      "3              10.809129            7.990000                          0.6500\n",
      "4              30.958756           26.606893                          1.1625\n",
      "...                  ...                 ...                             ...\n",
      "22909        1478.319317            1.488335                          1.1625\n",
      "22910        1898.499837           22.812874                          0.7800\n",
      "22911        1660.858790           15.550167                          1.1625\n",
      "22912         253.240000            4.602194                          1.1625\n",
      "22913         647.826139            8.614582                          1.3950\n",
      "\n",
      "[22914 rows x 3 columns]\n",
      "       Decisão\n",
      "0          1.0\n",
      "1          1.0\n",
      "2          1.0\n",
      "3          1.0\n",
      "4          1.0\n",
      "...        ...\n",
      "22909      0.0\n",
      "22910      0.0\n",
      "22911      0.0\n",
      "22912      0.0\n",
      "22913      0.0\n",
      "\n",
      "[22914 rows x 1 columns]\n"
     ]
    }
   ],
   "source": [
    "pp_data_inputs = pp_dataset.drop(columns = ['Decisão'])\n",
    "print(pp_data_inputs) #Entradas\n",
    "\n",
    "pp_data_outputs = pp_dataset[['Decisão']]\n",
    "print(pp_data_outputs) #Saídas"
   ]
  },
  {
   "cell_type": "code",
   "execution_count": 16,
   "metadata": {},
   "outputs": [
    {
     "name": "stdout",
     "output_type": "stream",
     "text": [
      "Número de combinações possíveis: 1520640\n",
      "{'criterion': ['entropy', 'gini'], 'splitter': ['best', 'random'], 'max_depth': [1, 3, 5, 7, 9, 11, 13, 15, 17, 19, 21], 'min_samples_split': [2, 5, 8, 11, 14, 17], 'min_samples_leaf': [1, 4, 7, 10, 13, 16], 'min_weight_fraction_leaf': [0.0, 0.125, 0.25, 0.375, 0.5], 'max_leaf_nodes': [200, 210, 220, 230, 240, 250, 260, 270, 280, 290, 300, 310, 320, 330, 340, 350, 360, 370, 380, 390, 400, 410, 420, 430, 440, 450, 460, 470, 480, 490, 500, None], 'max_features': [1, 2, 3, 'log2', 'sqrt', None]}\n",
      "Tempo estimado de processamento: 35.7 segundos\n"
     ]
    }
   ],
   "source": [
    "random_state = 1\n",
    "\n",
    "# Definição dos hiperparâmetros\n",
    "\n",
    "criterion = ['entropy', 'gini']\n",
    "\n",
    "splitter = ['best', 'random']\n",
    "\n",
    "max_depth = [int(x) for x in np.arange(1, 22, step = 2)] # max_depth já foi limitado\n",
    "\n",
    "min_samples_split = [int(x) for x in np.arange(2, 18, step = 3)]\n",
    "\n",
    "min_samples_leaf = [int(x) for x in np.arange(1, 18, step = 3)]\n",
    "\n",
    "min_weight_fraction_leaf = [float(x) for x in np.linspace(0,0.5,5)] # Ajustado o intervalo, o peso máximo aceito é 0.5, entretanto todas as RSearch dão 0\n",
    "\n",
    "max_leaf_nodes = [int(x) for x in np.arange(200, 510, step = 10)]\n",
    "max_leaf_nodes.append(None)\n",
    "\n",
    "max_features = [int(x) for x in np.arange(1, 4, step = 1)] \n",
    "max_features.append('log2')\n",
    "max_features.append('sqrt')\n",
    "max_features.append(None)\n",
    "\n",
    "combinations = len(criterion)*len(splitter)*len(max_depth)*len(min_samples_leaf)*len(min_samples_split)*len(min_weight_fraction_leaf)*len(max_leaf_nodes)*len(max_features)\n",
    "\n",
    "print('Número de combinações possíveis:', combinations)\n",
    "\n",
    "hyperparameters_settings = {'criterion'                : criterion,\n",
    "                            'splitter'                 : splitter,\n",
    "                            'max_depth'                : max_depth,\n",
    "                            'min_samples_split'        : min_samples_split,\n",
    "                            'min_samples_leaf'         : min_samples_leaf,\n",
    "                            'min_weight_fraction_leaf' : min_weight_fraction_leaf,\n",
    "                            'max_leaf_nodes'           : max_leaf_nodes,\n",
    "                            'max_features'             : max_features\n",
    "                           }\n",
    "\n",
    "print(hyperparameters_settings)\n",
    "\n",
    "# Metrica de performance\n",
    "scoring = 'recall'\n",
    "\n",
    "# Número de partições\n",
    "k_fold = 10 \n",
    "\n",
    "# Número de iterações\n",
    "n_iter = 500 \n",
    "\n",
    "print('Tempo estimado de processamento:', round((n_iter*10)/140,1), 'segundos')"
   ]
  },
  {
   "cell_type": "code",
   "execution_count": 162,
   "metadata": {},
   "outputs": [
    {
     "name": "stdout",
     "output_type": "stream",
     "text": [
      "Fitting 10 folds for each of 500 candidates, totalling 5000 fits\n"
     ]
    },
    {
     "data": {
      "text/plain": [
       "RandomizedSearchCV(cv=KFold(n_splits=10, random_state=None, shuffle=True),\n",
       "                   estimator=DecisionTreeClassifier(), n_iter=500, n_jobs=-1,\n",
       "                   param_distributions={'criterion': ['entropy', 'gini'],\n",
       "                                        'max_depth': [1, 3, 5, 7, 9, 11, 13, 15,\n",
       "                                                      17, 19, 21],\n",
       "                                        'max_features': [1, 2, 3, 'log2',\n",
       "                                                         'sqrt', None],\n",
       "                                        'max_leaf_nodes': [200, 210, 220, 230,\n",
       "                                                           240, 250, 260, 270,\n",
       "                                                           280, 290, 300, 310,\n",
       "                                                           320, 330, 340, 350,\n",
       "                                                           360, 370, 380, 390,\n",
       "                                                           400, 410, 420, 430,\n",
       "                                                           440, 450, 460, 470,\n",
       "                                                           480, 490, ...],\n",
       "                                        'min_samples_leaf': [1, 4, 7, 10, 13,\n",
       "                                                             16],\n",
       "                                        'min_samples_split': [2, 5, 8, 11, 14,\n",
       "                                                              17],\n",
       "                                        'min_weight_fraction_leaf': [0.0, 0.125,\n",
       "                                                                     0.25,\n",
       "                                                                     0.375,\n",
       "                                                                     0.5],\n",
       "                                        'splitter': ['best', 'random']},\n",
       "                   scoring='recall', verbose=3)"
      ]
     },
     "execution_count": 162,
     "metadata": {},
     "output_type": "execute_result"
    }
   ],
   "source": [
    "# Criação da árvore de decisão\n",
    "starting_decision_tree = DecisionTreeClassifier()\n",
    "\n",
    "# Optimização dos hiperparâmetros com RandomSearch\n",
    "dtTries = RandomizedSearchCV(estimator = starting_decision_tree, param_distributions = hyperparameters_settings, scoring = scoring,\n",
    "                            cv = KFold(n_splits = k_fold, shuffle = True), verbose = 3, n_jobs = -1, n_iter = n_iter)\n",
    "\n",
    "# Teste com os hiperparâmetros encontrados\n",
    "dtTries.fit(pp_data_inputs, pp_data_outputs)\n"
   ]
  },
  {
   "cell_type": "code",
   "execution_count": 165,
   "metadata": {},
   "outputs": [
    {
     "name": "stdout",
     "output_type": "stream",
     "text": [
      "{'splitter': 'best', 'min_weight_fraction_leaf': 0.0, 'min_samples_split': 11, 'min_samples_leaf': 4, 'max_leaf_nodes': 210, 'max_features': 2, 'max_depth': 9, 'criterion': 'entropy'}\n",
      "10 - Fold Best recall-score:  97.72051783986987\n"
     ]
    }
   ],
   "source": [
    "print(dtTries.best_params_) \n",
    "print(k_fold,'- Fold Best recall-score: ', dtTries.best_score_*100)"
   ]
  },
  {
   "cell_type": "code",
   "execution_count": 167,
   "metadata": {},
   "outputs": [
    {
     "name": "stdout",
     "output_type": "stream",
     "text": [
      "{'criterion': ['entropy'], 'splitter': ['best'], 'max_depth': [7, 8, 9, 10, 11], 'min_samples_split': [9, 10, 11, 12, 13], 'min_samples_leaf': [2, 3, 4, 5, 6], 'min_weight_fraction_leaf': [0], 'max_leaf_nodes': [195, 200, 205, 210, 215, 220, 225, 230, 235], 'max_features': [2]}\n"
     ]
    }
   ],
   "source": [
    "# Segunda iteração\n",
    "\n",
    "splitter = ['best']\n",
    "\n",
    "min_weight_fraction_leaf = [0]\n",
    "\n",
    "min_samples_split = [int(x) for x in np.arange(9, 14, step = 1)]\n",
    "\n",
    "min_samples_leaf = [int(x) for x in np.arange(2, 7, step = 1)]\n",
    "\n",
    "max_leaf_nodes = [int(x) for x in np.arange(195, 240, step = 5)]\n",
    "\n",
    "max_features = [2] \n",
    "\n",
    "max_depth = [int(x) for x in np.arange(7, 12, step = 1)]\n",
    "\n",
    "criterion = ['entropy']\n",
    "\n",
    "hyperparameters_settings = {'criterion'                : criterion,\n",
    "                            'splitter'                 : splitter,\n",
    "                            'max_depth'                : max_depth,\n",
    "                            'min_samples_split'        : min_samples_split,\n",
    "                            'min_samples_leaf'         : min_samples_leaf,\n",
    "                            'min_weight_fraction_leaf' : min_weight_fraction_leaf,\n",
    "                            'max_leaf_nodes'           : max_leaf_nodes,\n",
    "                            'max_features'             : max_features\n",
    "                           }\n",
    "\n",
    "print(hyperparameters_settings)\n",
    "\n",
    "# Metrica de performance\n",
    "scoring = 'recall'\n",
    "\n",
    "# Número de partições\n",
    "k_fold = 10 "
   ]
  },
  {
   "cell_type": "code",
   "execution_count": 168,
   "metadata": {},
   "outputs": [
    {
     "name": "stdout",
     "output_type": "stream",
     "text": [
      "Fitting 10 folds for each of 1125 candidates, totalling 11250 fits\n"
     ]
    },
    {
     "data": {
      "text/plain": [
       "GridSearchCV(cv=KFold(n_splits=10, random_state=None, shuffle=True),\n",
       "             estimator=DecisionTreeClassifier(), n_jobs=-1,\n",
       "             param_grid={'criterion': ['entropy'],\n",
       "                         'max_depth': [7, 8, 9, 10, 11], 'max_features': [2],\n",
       "                         'max_leaf_nodes': [195, 200, 205, 210, 215, 220, 225,\n",
       "                                            230, 235],\n",
       "                         'min_samples_leaf': [2, 3, 4, 5, 6],\n",
       "                         'min_samples_split': [9, 10, 11, 12, 13],\n",
       "                         'min_weight_fraction_leaf': [0],\n",
       "                         'splitter': ['best']},\n",
       "             scoring='recall', verbose=3)"
      ]
     },
     "execution_count": 168,
     "metadata": {},
     "output_type": "execute_result"
    }
   ],
   "source": [
    "# Optimização dos hiperparâmetros com GridSearch\n",
    "dtTries = GridSearchCV(estimator = starting_decision_tree, param_grid = hyperparameters_settings, scoring = scoring,\n",
    "                            cv = KFold(n_splits = k_fold, shuffle = True), verbose = 3, n_jobs = -1)\n",
    "\n",
    "# Teste com os hiperparâmetros encontrados\n",
    "dtTries.fit(pp_data_inputs, pp_data_outputs)"
   ]
  },
  {
   "cell_type": "code",
   "execution_count": 169,
   "metadata": {},
   "outputs": [
    {
     "name": "stdout",
     "output_type": "stream",
     "text": [
      "{'criterion': 'entropy', 'max_depth': 9, 'max_features': 2, 'max_leaf_nodes': 195, 'min_samples_leaf': 2, 'min_samples_split': 11, 'min_weight_fraction_leaf': 0, 'splitter': 'best'}\n",
      "10 - Fold Best recall-score:  98.09771996241653\n"
     ]
    }
   ],
   "source": [
    "print(dtTries.best_params_)\n",
    "print(k_fold,'- Fold Best recall-score: ', dtTries.best_score_*100)"
   ]
  },
  {
   "cell_type": "code",
   "execution_count": 32,
   "metadata": {},
   "outputs": [],
   "source": [
    "final_decision_tree = DecisionTreeClassifier(criterion = 'entropy', \n",
    "                                            max_depth = 9, \n",
    "                                            max_features = 2, \n",
    "                                            max_leaf_nodes = 195, \n",
    "                                            min_samples_leaf = 2, \n",
    "                                            min_samples_split = 11,\n",
    "                                            min_weight_fraction_leaf = 0, \n",
    "                                            splitter = 'best')\n",
    "\n",
    "# Holdout test\n",
    "inputsTrain, inputsTest, outputsTrain, outputsTest = train_test_split_stratified(data = pp_dataset, \n",
    "                                                                                test_size = 0.8, \n",
    "                                                                                prop_zeros = 0.5, \n",
    "                                                                                random_state = 1, \n",
    "                                                                                shuffle = True) # 20% dos dados para teste, com 50% das saídas sendo 0\n",
    "\n",
    "final_decision_tree.fit(inputsTrain, outputsTrain)\n",
    "\n",
    "# Valores preditos pela árvore treinada\n",
    "predicted_apply_brakes = final_decision_tree.predict(inputsTest)\n",
    "\n",
    "# Métricas de performance\n",
    "finalAccuracy = accuracy_score(outputsTest, predicted_apply_brakes)\n",
    "finalPrecision = precision_score(outputsTest, predicted_apply_brakes)\n",
    "finalRecall = recall_score(outputsTest, predicted_apply_brakes)\n",
    "finalF1 = f1_score(outputsTest, predicted_apply_brakes)\n",
    "finalConfusionMatrix = confusion_matrix(outputsTest, predicted_apply_brakes)"
   ]
  },
  {
   "cell_type": "code",
   "execution_count": 33,
   "metadata": {},
   "outputs": [
    {
     "name": "stdout",
     "output_type": "stream",
     "text": [
      "Accuracy: 98.35251759314822\n",
      "Precision: 95.30655391120507\n",
      "Recall: 98.256320836966\n",
      "F1-Score: 96.75896115046146\n",
      "[[13521   222]\n",
      " [   80  4508]]\n"
     ]
    },
    {
     "data": {
      "image/png": "[encoded data removed]",
      "text/plain": [
       "<Figure size 432x288 with 2 Axes>"
      ]
     },
     "metadata": {
      "needs_background": "light"
     },
     "output_type": "display_data"
    }
   ],
   "source": [
    "# Imprime resultados finais\n",
    "print('Accuracy:', finalAccuracy*100)\n",
    "print('Precision:', finalPrecision*100)\n",
    "print('Recall:', finalRecall*100)\n",
    "print('F1-Score:', finalF1*100)\n",
    "print(finalConfusionMatrix)\n",
    "ConfusionMatrixDisplay(finalConfusionMatrix).plot()\n",
    "plt.show()"
   ]
  },
  {
   "cell_type": "code",
   "execution_count": 34,
   "metadata": {},
   "outputs": [
    {
     "name": "stdout",
     "output_type": "stream",
     "text": [
      "******** Resultados DatasetT1 ********\n",
      "Accuracy: 98.25085100811731\n",
      "Precision: 86.40672782874617\n",
      "Recall: 98.03955586398334\n",
      "F1-Score: 91.85630689206764\n",
      "[[50632   889]\n",
      " [  113  5651]]\n"
     ]
    },
    {
     "data": {
      "image/png": "[encoded data removed]",
      "text/plain": [
       "<Figure size 432x288 with 2 Axes>"
      ]
     },
     "metadata": {
      "needs_background": "light"
     },
     "output_type": "display_data"
    },
    {
     "name": "stdout",
     "output_type": "stream",
     "text": [
      "******** Resultados DatasetT2 ********\n",
      "Accuracy: 98.17404207035001\n",
      "Precision: 85.84017016104526\n",
      "Recall: 98.02220680083276\n",
      "F1-Score: 91.52762028187266\n",
      "[[50589   932]\n",
      " [  114  5650]]\n"
     ]
    },
    {
     "data": {
      "image/png": "[encoded data removed]",
      "text/plain": [
       "<Figure size 432x288 with 2 Axes>"
      ]
     },
     "metadata": {
      "needs_background": "light"
     },
     "output_type": "display_data"
    },
    {
     "name": "stdout",
     "output_type": "stream",
     "text": [
      "******** Resultados DatasetT3 ********\n",
      "Accuracy: 98.2089552238806\n",
      "Precision: 86.21216753286457\n",
      "Recall: 97.84871616932685\n",
      "F1-Score: 91.66260360799609\n",
      "[[50619   902]\n",
      " [  124  5640]]\n"
     ]
    },
    {
     "data": {
      "image/png": "[encoded data removed]",
      "text/plain": [
       "<Figure size 432x288 with 2 Axes>"
      ]
     },
     "metadata": {
      "needs_background": "light"
     },
     "output_type": "display_data"
    }
   ],
   "source": [
    "automatic_test(1)\n",
    "automatic_test(2)\n",
    "automatic_test(3)"
   ]
  }
 ],
 "metadata": {
  "kernelspec": {
   "display_name": "Python 3 (ipykernel)",
   "language": "python",
   "name": "python3"
  },
  "language_info": {
   "codemirror_mode": {
    "name": "ipython",
    "version": 3
   },
   "file_extension": ".py",
   "mimetype": "text/x-python",
   "name": "python",
   "nbconvert_exporter": "python",
   "pygments_lexer": "ipython3",
   "version": "3.9.12"
  },
  "vscode": {
   "interpreter": {
    "hash": "ed3204535e0d33657ce63df17c70ff982e319d78fbe8f1243c6c262c26265b53"
   }
  }
 },
 "nbformat": 4,
 "nbformat_minor": 2
}
