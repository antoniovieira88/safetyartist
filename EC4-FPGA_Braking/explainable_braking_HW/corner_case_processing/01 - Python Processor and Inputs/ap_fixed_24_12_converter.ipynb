{
 "cells": [
  {
   "cell_type": "code",
   "execution_count": 9,
   "metadata": {},
   "outputs": [],
   "source": [
    "import numpy as np\n",
    "import pandas as pd\n",
    "\n",
    "# List of input files\n",
    "file_names = [\"DatasetT1.csv\", \"DatasetT1_CornerMissesBrakes.csv\", \"DatasetT1_CornerUnncessaryBrakes.csv\", \"DatasetT1_NoCorner.csv\",\n",
    "              \"DatasetT2.csv\", \"DatasetT2_CornerMissesBrakes.csv\", \"DatasetT2_CornerUnncessaryBrakes.csv\", \"DatasetT2_NoCorner.csv\",\n",
    "              \"DatasetT3.csv\", \"DatasetT3_CornerMissesBrakes.csv\", \"DatasetT3_CornerUnncessaryBrakes.csv\", \"DatasetT3_NoCorner.csv\",]"
   ]
  },
  {
   "cell_type": "code",
   "execution_count": null,
   "metadata": {},
   "outputs": [],
   "source": [
    "# Reads each dataset and generates input files for VHDL simulation\n",
    "for k in file_names:\n",
    "\n",
    "    # Reads the dataset\n",
    "    data = pd.read_csv(k, names = [\"Distance\", \"Speed\", \"Deceleration\", \"Decision\"])\n",
    "\n",
    "    # Separates inputs from outputs\n",
    "    data_inputs = data.drop(columns = \"Decision\")\n",
    "\n",
    "    # Separates inputs from outputs\n",
    "    data_output = data.drop(columns = [\"Distance\", \"Speed\", \"Deceleration\"])\n",
    "\n",
    "    # Cast input and output data to numpy\n",
    "    data_inputs_np = data_inputs.to_numpy()\n",
    "    data_output_np = data_output.to_numpy()\n",
    "\n",
    "    # Transform the input values to integer for ap_fixed<24,12> representation\n",
    "    data_inputs_np = np.int32((data_inputs_np*(2**12)))\n",
    "\n",
    "    # Creates file with Simulation Input data\n",
    "    fout = open(f'SimulationInput_{k}.txt', 'w')\n",
    "\n",
    "    # Writes the Simulation Input data into the file\n",
    "    for i in range(data_inputs_np.shape[0]):\n",
    "        for j in range(data_inputs_np.shape[1]):\n",
    "            fout.write(str(data_inputs_np[i][j]))\n",
    "            fout.write(' ')\n",
    "        fout.write('\\n')\n",
    "\n",
    "    # Close the Simulation Input file\n",
    "    fout.close()\n",
    "\n",
    "    # Creates file with Simulation Output data\n",
    "    fout = open(f'SimulationOutput_{k}.txt', 'w')\n",
    "\n",
    "    for i in range(data_output_np.shape[0]):\n",
    "        for j in range(data_output_np.shape[1]):\n",
    "            fout.write(str(data_output_np[i][j]))\n",
    "        fout.write('\\n')\n",
    "\n",
    "    # Close the Simulation Input file\n",
    "    fout.close()"
   ]
  }
 ],
 "metadata": {
  "kernelspec": {
   "display_name": "Python 3.9.13 ('base')",
   "language": "python",
   "name": "python3"
  },
  "language_info": {
   "codemirror_mode": {
    "name": "ipython",
    "version": 3
   },
   "file_extension": ".py",
   "mimetype": "text/x-python",
   "name": "python",
   "nbconvert_exporter": "python",
   "pygments_lexer": "ipython3",
   "version": "3.9.13"
  },
  "orig_nbformat": 4,
  "vscode": {
   "interpreter": {
    "hash": "a7efeda51ab66cbc0f4c54a7d4464d7301853633942c4395c7ec7c64649ddfc5"
   }
  }
 },
 "nbformat": 4,
 "nbformat_minor": 2
}
